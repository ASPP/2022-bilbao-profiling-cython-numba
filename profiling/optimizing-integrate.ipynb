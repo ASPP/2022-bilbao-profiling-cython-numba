{
 "cells": [
  {
   "cell_type": "code",
   "execution_count": 1,
   "id": "6ecd4518",
   "metadata": {},
   "outputs": [],
   "source": [
    "def integrate(f, a, b, n):\n",
    "    s = []\n",
    "    for i in range(n):\n",
    "        dx = (b - a) / n\n",
    "        x = a + (i + 0.5) * dx\n",
    "        y = f(x)\n",
    "        s += [y * dx]\n",
    "    return sum(s)"
   ]
  },
  {
   "cell_type": "code",
   "execution_count": 2,
   "id": "7d6d96f1",
   "metadata": {},
   "outputs": [],
   "source": [
    "def f(x):\n",
    "    return x ** 4 - 3 * x"
   ]
  },
  {
   "cell_type": "code",
   "execution_count": 3,
   "id": "030feb6c",
   "metadata": {},
   "outputs": [
    {
     "name": "stdout",
     "output_type": "stream",
     "text": [
      "1.37 ms ± 3.76 µs per loop (mean ± std. dev. of 7 runs, 1,000 loops each)\n"
     ]
    }
   ],
   "source": [
    "n = 5000\n",
    "a = -2\n",
    "b = 2\n",
    "\n",
    "%timeit integrate(f, a, b, n)"
   ]
  },
  {
   "cell_type": "code",
   "execution_count": 4,
   "id": "4aadea36",
   "metadata": {},
   "outputs": [],
   "source": [
    "def integrate(f, a, b, n):\n",
    "    s = []\n",
    "    for i in range(n):\n",
    "        dx = (b - a) / n\n",
    "        x = a + (i + 0.5) * dx\n",
    "        y = f(x)\n",
    "        s = s + [y * dx]\n",
    "    return sum(s)"
   ]
  },
  {
   "cell_type": "code",
   "execution_count": 5,
   "id": "ba2ba28a",
   "metadata": {},
   "outputs": [
    {
     "name": "stdout",
     "output_type": "stream",
     "text": [
      "24.4 ms ± 214 µs per loop (mean ± std. dev. of 7 runs, 10 loops each)\n"
     ]
    }
   ],
   "source": [
    "n = 5000\n",
    "a = -2\n",
    "b = 2\n",
    "\n",
    "%timeit integrate(f, a, b, n)"
   ]
  },
  {
   "cell_type": "code",
   "execution_count": 14,
   "id": "5678951c",
   "metadata": {},
   "outputs": [],
   "source": [
    "def integrate(f, a, b, n):\n",
    "    dx = (b - a) / n\n",
    "    s = 0.0\n",
    "    for i in range(n):\n",
    "        x = a + (i + 0.5) * dx\n",
    "        y = f(x)\n",
    "        s += y * dx\n",
    "    return s"
   ]
  },
  {
   "cell_type": "code",
   "execution_count": 15,
   "id": "d7046002",
   "metadata": {},
   "outputs": [
    {
     "name": "stdout",
     "output_type": "stream",
     "text": [
      "1.05 ms ± 11.1 µs per loop (mean ± std. dev. of 7 runs, 1,000 loops each)\n"
     ]
    }
   ],
   "source": [
    "n = 5000\n",
    "a = -2\n",
    "b = 2\n",
    "\n",
    "%timeit integrate(f, a, b, n)"
   ]
  },
  {
   "cell_type": "code",
   "execution_count": null,
   "id": "c28ed41d",
   "metadata": {},
   "outputs": [],
   "source": []
  }
 ],
 "metadata": {
  "kernelspec": {
   "display_name": "Python 3.10.6 64-bit",
   "language": "python",
   "name": "python3"
  },
  "language_info": {
   "codemirror_mode": {
    "name": "ipython",
    "version": 3
   },
   "file_extension": ".py",
   "mimetype": "text/x-python",
   "name": "python",
   "nbconvert_exporter": "python",
   "pygments_lexer": "ipython3",
   "version": "3.10.6"
  },
  "vscode": {
   "interpreter": {
    "hash": "e7370f93d1d0cde622a1f8e1c04877d8463912d04d973331ad4851f04de6915a"
   }
  }
 },
 "nbformat": 4,
 "nbformat_minor": 5
}
