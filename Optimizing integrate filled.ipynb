{
 "cells": [
  {
   "cell_type": "code",
   "execution_count": null,
   "id": "af1a2e93",
   "metadata": {},
   "outputs": [],
   "source": [
    "def f(x):\n",
    "    return x ** 4 - 3 * x"
   ]
  },
  {
   "cell_type": "code",
   "execution_count": null,
   "id": "ee0b9fa0",
   "metadata": {},
   "outputs": [],
   "source": [
    "n = 5_000\n",
    "a = -2\n",
    "b = 2"
   ]
  },
  {
   "cell_type": "code",
   "execution_count": null,
   "id": "79298f81",
   "metadata": {},
   "outputs": [],
   "source": [
    "def integrate(f, a, b, n):\n",
    "    s = []\n",
    "    for i in range(n):\n",
    "        dx = (b - a) / n\n",
    "        x = a + (i + 0.5) * dx\n",
    "        y = f(x)\n",
    "        s = s + [y * dx]\n",
    "    return sum(s)"
   ]
  },
  {
   "cell_type": "code",
   "execution_count": null,
   "id": "1fadc0f7",
   "metadata": {},
   "outputs": [],
   "source": [
    "%timeit integrate(f, a, b, n)"
   ]
  },
  {
   "cell_type": "code",
   "execution_count": null,
   "id": "c3078d29",
   "metadata": {},
   "outputs": [],
   "source": [
    "%load_ext line_profiler"
   ]
  },
  {
   "cell_type": "code",
   "execution_count": null,
   "id": "a07671a1",
   "metadata": {},
   "outputs": [],
   "source": [
    "%lprun -f integrate integrate(f, a, b, n)"
   ]
  },
  {
   "cell_type": "code",
   "execution_count": null,
   "id": "4bc52e3c",
   "metadata": {},
   "outputs": [],
   "source": [
    "def integrate_new(f, a, b, n):\n",
    "    dx = (b - a) / n\n",
    "    s = 0.0\n",
    "    x = a + 0.5 * dx\n",
    "    for i in range(n):\n",
    "        y = f(x)\n",
    "        s += y\n",
    "        x += dx\n",
    "    return s * dx"
   ]
  },
  {
   "cell_type": "code",
   "execution_count": null,
   "id": "abb432b8",
   "metadata": {},
   "outputs": [],
   "source": [
    "import pytest"
   ]
  },
  {
   "cell_type": "code",
   "execution_count": null,
   "id": "f7131f8b",
   "metadata": {},
   "outputs": [],
   "source": [
    "assert integrate(f, a, b, n) == pytest.approx(integrate_new(f, a, b, n))"
   ]
  },
  {
   "cell_type": "code",
   "execution_count": null,
   "id": "a79faea4",
   "metadata": {},
   "outputs": [],
   "source": [
    "%timeit integrate_new(f, a, b, n)"
   ]
  },
  {
   "cell_type": "code",
   "execution_count": null,
   "id": "58bd775f",
   "metadata": {},
   "outputs": [],
   "source": [
    "%lprun -f integrate_new integrate_new(f, a, b, n)"
   ]
  }
 ],
 "metadata": {
  "kernelspec": {
   "display_name": "Python 3 (ipykernel)",
   "language": "python",
   "name": "python3"
  },
  "language_info": {
   "codemirror_mode": {
    "name": "ipython",
    "version": 3
   },
   "file_extension": ".py",
   "mimetype": "text/x-python",
   "name": "python",
   "nbconvert_exporter": "python",
   "pygments_lexer": "ipython3",
   "version": "3.8.12"
  }
 },
 "nbformat": 4,
 "nbformat_minor": 5
}
