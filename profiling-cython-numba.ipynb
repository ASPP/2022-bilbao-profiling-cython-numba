{
 "cells": [
  {
   "cell_type": "markdown",
   "id": "1d8331d3",
   "metadata": {
    "slideshow": {
     "slide_type": "slide"
    }
   },
   "source": [
    "# Profiling, Cython, and Numba 🚀\n",
    "### Zbyszek & Jakob\n",
    "### ASPP 2022, Bilbao, Spain"
   ]
  },
  {
   "cell_type": "markdown",
   "id": "6e140a02",
   "metadata": {
    "slideshow": {
     "slide_type": "slide"
    }
   },
   "source": [
    "## Outline\n",
    "\n",
    "* Introduction\n",
    "* Profiling\n",
    "* Speed up Python code using Cython\n",
    " * Basic principles\n",
    " * Interacting with NumPy arrays\n",
    "* Using Numba to speed up Python code"
   ]
  },
  {
   "cell_type": "markdown",
   "id": "64f5447c",
   "metadata": {
    "slideshow": {
     "slide_type": "slide"
    }
   },
   "source": [
    "## Introduction\n",
    "\n",
    "* By now you are the *Master of Research*(tm).\n",
    "![Master of research](figures/mor.png)\n",
    "* Using your newly gained skills you can confidently transform any idea into a great manuscript."
   ]
  },
  {
   "cell_type": "markdown",
   "id": "feb1e04e",
   "metadata": {
    "slideshow": {
     "slide_type": "fragment"
    }
   },
   "source": [
    "* It seems like the only thing that's holding you back is the **execution speed** of your scripts!\n",
    "* Both Cython and Numba are tools to make your code faster -> **optimization**."
   ]
  },
  {
   "cell_type": "markdown",
   "id": "0f3dbbfb",
   "metadata": {
    "slideshow": {
     "slide_type": "slide"
    }
   },
   "source": [
    "## Exercise\n",
    "\n",
    "Who thinks that they would benefit from reduced execution time?\n",
    "\n",
    "Please raise your hand."
   ]
  },
  {
   "cell_type": "markdown",
   "id": "af6284f4",
   "metadata": {
    "slideshow": {
     "slide_type": "slide"
    }
   },
   "source": [
    "## The three rules of optimization\n",
    "(adapted from Sebastian Witowski, EuroPython 2016)"
   ]
  },
  {
   "cell_type": "markdown",
   "id": "c68002fb",
   "metadata": {
    "slideshow": {
     "slide_type": "fragment"
    }
   },
   "source": [
    "#### 1. Don't.\n",
    " * Likely you don't need it.\n",
    " * Optimization comes with costs."
   ]
  },
  {
   "cell_type": "markdown",
   "id": "a95e50e4",
   "metadata": {
    "slideshow": {
     "slide_type": "notes"
    }
   },
   "source": [
    "## Exercise\n",
    "\n",
    "What are costs associated with optimization?"
   ]
  },
  {
   "cell_type": "markdown",
   "id": "b9c618af",
   "metadata": {
    "slideshow": {
     "slide_type": "fragment"
    }
   },
   "source": [
    "#### 2. Don't yet.\n",
    " * Is your code finished?\n",
    " * Did you write tests?\n",
    " * Are you sure it's worth the investment?"
   ]
  },
  {
   "cell_type": "markdown",
   "id": "bc5836da",
   "metadata": {
    "slideshow": {
     "slide_type": "fragment"
    }
   },
   "source": [
    "#### 3. Profile\n",
    "* Don't guess which part of your code you should optimize!\n",
    "* Measure. Measure. Measure."
   ]
  },
  {
   "cell_type": "markdown",
   "id": "1d467e3f",
   "metadata": {
    "slideshow": {
     "slide_type": "slide"
    }
   },
   "source": [
    "## Runtime profilers\n",
    "\n",
    "- profilers monitor the execution of your script and record, for example, how much time is spent in each function\n",
    "- here we consider [py-spy](https://github.com/benfred/py-spy), a sampling-based profiler for Python\n",
    "  - simply speaking `py-spy` examines your program at regular intervals and records which part is currently executed\n",
    "- you can apply it to your script with `py-spy record -o profile.svg -- python myprogram.py`\n",
    "  - to make timings accurate it needs to collect enough of data; you can control the \"sampling rate\" using the `-r` argument\n",
    "- after measuring `py-spy` will produce a \"flamegraph\" like the following\n",
    "![flamegraph](./figures/flamegraph.svg)"
   ]
  },
  {
   "cell_type": "markdown",
   "id": "bf84098e",
   "metadata": {
    "slideshow": {
     "slide_type": "slide"
    }
   },
   "source": [
    "## Demo\n",
    "\n",
    "Using a simple script, Jakob will explain how to read flamegraphs."
   ]
  },
  {
   "cell_type": "markdown",
   "id": "e0aa05e6",
   "metadata": {
    "slideshow": {
     "slide_type": "slide"
    }
   },
   "source": [
    "## Example: numerical integration\n",
    "\n",
    "![RiemannSum](figures/MidRiemann2.svg)\n",
    "\n",
    "Riemann sum: $\\int_a^b dx f(x) \\approx \\sum_{i = 0}^{n - 1} f(a + (i + 0.5) \\Delta x) \\Delta x$ with $\\Delta x = (b - a)/n$\n",
    "\n",
    "here $a=0, b=2, n=4$"
   ]
  },
  {
   "cell_type": "markdown",
   "id": "2f42dbf1",
   "metadata": {
    "slideshow": {
     "slide_type": "slide"
    }
   },
   "source": [
    "### Example implementation\n",
    "(see [./profiling/numerical_integration.py](./profiling/numerical_integration.py))\n",
    "\n",
    "Where do you think the bottlenecks are? *(don't do this at home!)*"
   ]
  },
  {
   "cell_type": "markdown",
   "id": "26177d33",
   "metadata": {
    "slideshow": {
     "slide_type": "slide"
    }
   },
   "source": [
    "## Demo\n",
    "\n",
    "With your help, Jakob will demonstrate a typical profiling/optimization workflow based on this script."
   ]
  },
  {
   "cell_type": "markdown",
   "id": "a416c304",
   "metadata": {
    "slideshow": {
     "slide_type": "slide"
    }
   },
   "source": [
    "## Exercise 00\n",
    "\n",
    "It's time to put theory into practice. We have prepared an example script (see [./profiling/count_words.py](./profiling/count_words.py)) which counts the number of occurences of words in a text.\n",
    "\n",
    "0. Fork & clone this repository.\n",
    "1. Familarize yourself with the script.\n",
    "2. Guess which functions are slow and should be optimized. *(don't do this at home.)*\n",
    "3. Use the workflow (time -> py-spy- > timeit/lprun -> time) we have just demonstrated to reduce the script's execution time. **Make sure not to break the tests.**\n",
    "4. Commit your changes in a new branch and create a PR. Include the duration before/after optimization in the PR message.\n",
    "\n",
    "Afterwards we will discuss the exercise jointly."
   ]
  },
  {
   "cell_type": "markdown",
   "id": "09601e96",
   "metadata": {
    "slideshow": {
     "slide_type": "slide"
    }
   },
   "source": [
    "## Exercise discussion\n",
    "\n",
    "What did we learn?\n",
    "- ..."
   ]
  },
  {
   "cell_type": "markdown",
   "id": "254ae127",
   "metadata": {
    "slideshow": {
     "slide_type": "slide"
    }
   },
   "source": [
    "## Profiling conclusion\n",
    "\n",
    "- Before optimizing, first finish your code & write tests!\n",
    "- Then *measure* to find slow functions. **Profiling is easy!**\n",
    "- Only optimize the slowest functions & *know when to stop*!\n",
    "- Most profilers can be invoked stand-alone and within ipython\n",
    "  - `time` (commandline)\n",
    "  - `%timeit`\n",
    "  - `import timeit; timeit.time('some_func()')`\n",
    "- [py-spy](https://github.com/benfred/py-spy) is just one of many profilers; alternatives:\n",
    "  - [cProfile](https://docs.python.org/3/library/profile.html) + [snakeviz](https://github.com/jiffyclub/snakeviz)\n",
    "  - [pyinstrument](https://github.com/joerick/pyinstrument)\n",
    "- Here we focus on profiling *runtime*, but maybe you are limited by *memory*\n",
    "  - [memray](https://github.com/bloomberg/memray)"
   ]
  },
  {
   "cell_type": "markdown",
   "id": "83a6364b",
   "metadata": {
    "slideshow": {
     "slide_type": "slide"
    }
   },
   "source": [
    "### Optimization: what to do (in order of increasing complexity)\n",
    "\n",
    "- Do nothing\n",
    "- \"Vectorization\" (`numpy`!!)\n",
    "- Data structures and algorithms\n",
    "- Memoization / caching\n",
    "- Non-Python libraries (`blas` vs. `openblas` vs. `atlas` vs. Intel `mkl`)\n",
    "- Buy better hardware\n",
    "- **Cython / Numba** / pythran\n",
    "- **Parallelization** (->tomorrow)\n",
    "- GPUs\n",
    "- Low-level code\n"
   ]
  },
  {
   "cell_type": "markdown",
   "id": "646621cc",
   "metadata": {
    "slideshow": {
     "slide_type": "slide"
    }
   },
   "source": []
  },
  {
   "cell_type": "markdown",
   "id": "66c1b68d",
   "metadata": {},
   "source": [
    "## Cython"
   ]
  },
  {
   "cell_type": "code",
   "execution_count": null,
   "id": "2466a1ca",
   "metadata": {},
   "outputs": [],
   "source": [
    "%load_ext cython"
   ]
  },
  {
   "cell_type": "code",
   "execution_count": null,
   "id": "c32a1090",
   "metadata": {},
   "outputs": [],
   "source": [
    "def f(x):\n",
    "    return x**4 - 3 * x\n",
    "\n",
    "def integrate_f(func, a, b, n):\n",
    "    dx = (b - a) / n\n",
    "    s = 0.0\n",
    "    for i in range(n):\n",
    "        s += func(a + (i + 0.5) * dx) * dx\n",
    "    return s"
   ]
  },
  {
   "cell_type": "code",
   "execution_count": null,
   "id": "f5959358",
   "metadata": {},
   "outputs": [],
   "source": [
    "%timeit integrate_f(-10, +10, 1_000_000)"
   ]
  },
  {
   "cell_type": "code",
   "execution_count": null,
   "id": "67093028",
   "metadata": {},
   "outputs": [],
   "source": []
  },
  {
   "cell_type": "code",
   "execution_count": null,
   "id": "f04b36a4",
   "metadata": {},
   "outputs": [],
   "source": [
    "%timeit integrate_f2(-10, +10, 1_000_000)"
   ]
  },
  {
   "cell_type": "code",
   "execution_count": null,
   "id": "35ae7d24",
   "metadata": {},
   "outputs": [],
   "source": []
  },
  {
   "cell_type": "code",
   "execution_count": null,
   "id": "0218369e",
   "metadata": {},
   "outputs": [],
   "source": []
  },
  {
   "cell_type": "code",
   "execution_count": null,
   "id": "d161a055",
   "metadata": {},
   "outputs": [],
   "source": [
    "f2, integrate_f2"
   ]
  },
  {
   "cell_type": "code",
   "execution_count": null,
   "id": "d122ce72",
   "metadata": {},
   "outputs": [],
   "source": []
  },
  {
   "cell_type": "code",
   "execution_count": null,
   "id": "d38d6036",
   "metadata": {},
   "outputs": [],
   "source": [
    "integrate_f3(f3, -10, +10, 1_000_000)"
   ]
  },
  {
   "cell_type": "code",
   "execution_count": null,
   "id": "9c98e661",
   "metadata": {},
   "outputs": [],
   "source": [
    "%timeit integrate_f3(f3, -10, +10, 1_000_000)"
   ]
  },
  {
   "cell_type": "code",
   "execution_count": null,
   "id": "7c4ac962",
   "metadata": {},
   "outputs": [],
   "source": []
  },
  {
   "cell_type": "code",
   "execution_count": null,
   "id": "3846893f",
   "metadata": {},
   "outputs": [],
   "source": [
    "integrate_f4(f4, -10, +10, 1_000_000)"
   ]
  },
  {
   "cell_type": "code",
   "execution_count": null,
   "id": "ed522072",
   "metadata": {},
   "outputs": [],
   "source": [
    "%timeit integrate_f4(f4, -10, +10, 1_000_000)"
   ]
  },
  {
   "cell_type": "markdown",
   "id": "7fe70695",
   "metadata": {
    "slideshow": {
     "slide_type": "-"
    }
   },
   "source": [
    "## Exercise 01-cython-primes\n",
    "\n",
    "Please open [01-cython-primes/exercise.ipynb](01-cython-primes/exercise.ipynb) and follow instructions therein."
   ]
  },
  {
   "cell_type": "markdown",
   "id": "6b29f03e",
   "metadata": {},
   "source": [
    "### Cython function type specialization"
   ]
  },
  {
   "cell_type": "code",
   "execution_count": null,
   "id": "fe6ee4ae",
   "metadata": {},
   "outputs": [],
   "source": []
  },
  {
   "cell_type": "code",
   "execution_count": null,
   "id": "ca74954f",
   "metadata": {},
   "outputs": [],
   "source": []
  },
  {
   "cell_type": "code",
   "execution_count": null,
   "id": "5b22a312",
   "metadata": {},
   "outputs": [],
   "source": [
    "%timeit integrate_f4(-10, +10, 1_000_000)"
   ]
  },
  {
   "cell_type": "markdown",
   "id": "fdbe9245",
   "metadata": {},
   "source": [
    "### Cython formula optimization"
   ]
  },
  {
   "cell_type": "code",
   "execution_count": null,
   "id": "9990b21c",
   "metadata": {},
   "outputs": [],
   "source": []
  },
  {
   "cell_type": "markdown",
   "id": "52768b44",
   "metadata": {
    "slideshow": {
     "slide_type": "-"
    }
   },
   "source": [
    "## Exercise: 02-cython-distrib\n",
    "\n",
    " Please open a terminal, `cd` to `02-cython-distrib/`, and follow the instructions:"
   ]
  },
  {
   "cell_type": "code",
   "execution_count": null,
   "id": "b7c2f0ae",
   "metadata": {},
   "outputs": [],
   "source": [
    "from IPython import display\n",
    "display.display(display.Markdown(open('02-cython-distrib/README.md').read()))\n"
   ]
  },
  {
   "cell_type": "code",
   "execution_count": null,
   "id": "783c7a43",
   "metadata": {},
   "outputs": [],
   "source": []
  },
  {
   "cell_type": "markdown",
   "id": "5afbe2d3",
   "metadata": {},
   "source": [
    "\n",
    "\n",
    "\n",
    "### When `setup.py` and when `meson.build`?\n",
    "\n",
    "[<img src=\"images/logo-over-white.svg\" width=\"100\"/>](images/logo-over-white.svg)\n",
    "\n",
    "- setuptools is (still) the standard in the Python ecosystem\n",
    "- excellent integration with PyPI and other Python packages\n",
    "- automatic downloads from PyPI\n",
    "- clumsy integration with non-Python libraries\n",
    "- weak support for optional dependencies and partial rebuilds\n",
    "\n",
    "[<img src=\"images/Meson_(software)_logo_2019.svg\" width=\"180\"/>](images/Meson_(software)_logo_2019.svg)\n",
    "\n",
    "- Meson is arguably the best available build system for compiled code\n",
    "- excellent integration with pkgconfig and other system libraries\n",
    "- integration with PyPI via pip, somewhat clumsy\n",
    "- excellent support for user configuration, optional dependencies, and partial rebuilds\n",
    "\n",
    "Thus, if setuptools is a good solution for Python projects with some Cython code, and no dependencies on system libraries. Meson is a good solution for some self-contained Python and/or Cython code, possibly alongside other non-Python libraries and executables."
   ]
  },
  {
   "cell_type": "code",
   "execution_count": null,
   "id": "587c13af",
   "metadata": {},
   "outputs": [],
   "source": []
  },
  {
   "cell_type": "markdown",
   "id": "f8e77134",
   "metadata": {},
   "source": [
    "# Cython and Numpy Arrays"
   ]
  },
  {
   "cell_type": "markdown",
   "id": "f8cbf32a",
   "metadata": {},
   "source": [
    "Let's start by summing up an array"
   ]
  },
  {
   "cell_type": "code",
   "execution_count": null,
   "id": "f3a3a353",
   "metadata": {},
   "outputs": [],
   "source": []
  },
  {
   "cell_type": "code",
   "execution_count": null,
   "id": "83a89190",
   "metadata": {},
   "outputs": [],
   "source": []
  },
  {
   "cell_type": "markdown",
   "id": "a54ef430",
   "metadata": {},
   "source": [
    "Let's write a \"mean filter\"\n"
   ]
  },
  {
   "cell_type": "markdown",
   "id": "1ffbd9ca",
   "metadata": {},
   "source": [
    "$$ \\{ x_0, x_1, ...  , x_{n-2}, x_n \\} \\longrightarrow \\{ \\frac{x_0 + x_1}{2}, \\frac{x_0 + x_1 + x_2}{3}, \\frac{x_1 + x_2 + x_3}{3}, ... , \\frac{x_{i-1} + x_i + x_{i+1}}{3}, ... , \\frac{x_{n-3} + x_{n-2} + x_{n-1}}{3}, \\frac{x_{n-2} + x_{n-1}}{2} \\} $$"
   ]
  },
  {
   "cell_type": "code",
   "execution_count": null,
   "id": "9fddfb85",
   "metadata": {},
   "outputs": [],
   "source": [
    "import numpy as np\n",
    "\n",
    "def mean3filter(arr):\n",
    "    arr_out = np.empty_like(arr)\n",
    "    \n",
    "    arr_out[0] =  (arr[0] + arr[1]) / 2\n",
    "    for i in range(1, arr.shape[0] - 1):\n",
    "        arr_out[i] = arr[i-1:i+2].sum() / 3\n",
    "    arr_out[-1] = (arr[-2] + arr[-1]) / 2\n",
    "\n",
    "    return arr_out"
   ]
  },
  {
   "cell_type": "markdown",
   "id": "30c45fe4",
   "metadata": {},
   "source": [
    "## Exercise 03-cython-mean3filter\n",
    "\n",
    "Please open [03-cython-mean3filter/exercise.ipynb](03-cython-mean3filter/exercise.ipynb) and follow instructions therein."
   ]
  },
  {
   "cell_type": "markdown",
   "id": "bbc3581f",
   "metadata": {},
   "source": [
    "# Wrapping external code in Cython"
   ]
  },
  {
   "cell_type": "code",
   "execution_count": null,
   "id": "73670ba0",
   "metadata": {},
   "outputs": [],
   "source": [
    "f3"
   ]
  },
  {
   "cell_type": "markdown",
   "id": "a3b35b39",
   "metadata": {},
   "source": [
    "# Numba"
   ]
  },
  {
   "cell_type": "code",
   "execution_count": null,
   "id": "8ab556b2",
   "metadata": {},
   "outputs": [],
   "source": []
  },
  {
   "cell_type": "code",
   "execution_count": null,
   "id": "b5414daa",
   "metadata": {},
   "outputs": [],
   "source": [
    "%timeit integrate_f(f, -10, +10, 1_000_000)"
   ]
  },
  {
   "cell_type": "code",
   "execution_count": null,
   "id": "1dace462",
   "metadata": {},
   "outputs": [],
   "source": []
  },
  {
   "cell_type": "code",
   "execution_count": null,
   "id": "f02c48b0",
   "metadata": {},
   "outputs": [],
   "source": []
  },
  {
   "cell_type": "code",
   "execution_count": null,
   "id": "111f8319",
   "metadata": {},
   "outputs": [],
   "source": []
  },
  {
   "cell_type": "code",
   "execution_count": null,
   "id": "a06e8b13",
   "metadata": {},
   "outputs": [],
   "source": []
  },
  {
   "cell_type": "markdown",
   "id": "bdca43a5",
   "metadata": {},
   "source": [
    "# Architecture of Cython and Numba"
   ]
  },
  {
   "cell_type": "markdown",
   "id": "e2b1fff5",
   "metadata": {},
   "source": [
    "[<img src=\"images/cython_architecture.png\" width=\"400\"/>](images/cython_architecture.png)"
   ]
  },
  {
   "cell_type": "markdown",
   "id": "4f12364b",
   "metadata": {},
   "source": [
    "[<img src=\"images/numba_architecture.png\" width=\"400\" />](images/numba_architecture.png)"
   ]
  },
  {
   "cell_type": "code",
   "execution_count": null,
   "id": "a80eab14",
   "metadata": {},
   "outputs": [],
   "source": []
  }
 ],
 "metadata": {
  "celltoolbar": "Slideshow",
  "kernelspec": {
   "display_name": "Python 3 (ipykernel)",
   "language": "python",
   "name": "python3"
  },
  "language_info": {
   "codemirror_mode": {
    "name": "ipython",
    "version": 3
   },
   "file_extension": ".py",
   "mimetype": "text/x-python",
   "name": "python",
   "nbconvert_exporter": "python",
   "pygments_lexer": "ipython3",
   "version": "3.10.6"
  }
 },
 "nbformat": 4,
 "nbformat_minor": 5
}
