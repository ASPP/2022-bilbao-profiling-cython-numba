{
 "cells": [
  {
   "cell_type": "code",
   "execution_count": 1,
   "id": "af1a2e93",
   "metadata": {},
   "outputs": [],
   "source": [
    "f = lambda x: x ** 4 - 3 * x"
   ]
  },
  {
   "cell_type": "code",
   "execution_count": 2,
   "id": "ee0b9fa0",
   "metadata": {},
   "outputs": [],
   "source": [
    "n = 5_000\n",
    "a = -2\n",
    "b = 2"
   ]
  },
  {
   "cell_type": "code",
   "execution_count": 3,
   "id": "79298f81",
   "metadata": {},
   "outputs": [],
   "source": [
    "def integrate(f, a, b, n):\n",
    "    s = []\n",
    "    for i in range(n):\n",
    "        dx = (b - a) / n\n",
    "        x = a + (i + 0.5) * dx\n",
    "        y = f(x)\n",
    "        s = s + [y * dx]\n",
    "    return sum(s)"
   ]
  },
  {
   "cell_type": "code",
   "execution_count": 4,
   "id": "c3078d29",
   "metadata": {},
   "outputs": [],
   "source": [
    "%load_ext line_profiler"
   ]
  },
  {
   "cell_type": "code",
   "execution_count": 5,
   "id": "a07671a1",
   "metadata": {},
   "outputs": [],
   "source": [
    "%lprun -f integrate integrate(f, a, b, n)"
   ]
  },
  {
   "cell_type": "code",
   "execution_count": 26,
   "id": "4bc52e3c",
   "metadata": {},
   "outputs": [],
   "source": [
    "def integrate_new(f, a, b, n):\n",
    "    dx = (b - a) / n\n",
    "    s = 0.0\n",
    "    x = a + 0.5 * dx\n",
    "    for i in range(n):\n",
    "        y = f(x)\n",
    "        s += y\n",
    "        x += dx\n",
    "    return s * dx"
   ]
  },
  {
   "cell_type": "code",
   "execution_count": 27,
   "id": "f7131f8b",
   "metadata": {},
   "outputs": [
    {
     "name": "stdout",
     "output_type": "stream",
     "text": [
      "12.79999829333338\n",
      "12.79999829333294\n"
     ]
    }
   ],
   "source": [
    "print(integrate(f, a, b, n))\n",
    "print(integrate_new(f, a, b, n))"
   ]
  },
  {
   "cell_type": "code",
   "execution_count": 28,
   "id": "a79faea4",
   "metadata": {},
   "outputs": [
    {
     "name": "stdout",
     "output_type": "stream",
     "text": [
      "34.4 ms ± 2.46 ms per loop (mean ± std. dev. of 7 runs, 10 loops each)\n",
      "1.09 ms ± 11.6 µs per loop (mean ± std. dev. of 7 runs, 1000 loops each)\n"
     ]
    }
   ],
   "source": [
    "%timeit integrate(f, a, b, n)\n",
    "%timeit integrate_new(f, a, b, n)"
   ]
  },
  {
   "cell_type": "code",
   "execution_count": 29,
   "id": "58bd775f",
   "metadata": {},
   "outputs": [],
   "source": [
    "%lprun -f integrate_new integrate_new(f, a, b, n)"
   ]
  }
 ],
 "metadata": {
  "kernelspec": {
   "display_name": "Python 3 (ipykernel)",
   "language": "python",
   "name": "python3"
  },
  "language_info": {
   "codemirror_mode": {
    "name": "ipython",
    "version": 3
   },
   "file_extension": ".py",
   "mimetype": "text/x-python",
   "name": "python",
   "nbconvert_exporter": "python",
   "pygments_lexer": "ipython3",
   "version": "3.8.12"
  }
 },
 "nbformat": 4,
 "nbformat_minor": 5
}
