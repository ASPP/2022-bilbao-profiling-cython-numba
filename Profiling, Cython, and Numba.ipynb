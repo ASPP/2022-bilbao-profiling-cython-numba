{
 "cells": [
  {
   "cell_type": "markdown",
   "id": "1d8331d3",
   "metadata": {
    "slideshow": {
     "slide_type": "slide"
    }
   },
   "source": [
    "# Profiling, Cython, and Numba 🚀\n",
    "### Zbyszek & Jakob\n",
    "### ASPP 2022, Bilbao, Spain"
   ]
  },
  {
   "cell_type": "markdown",
   "id": "6e140a02",
   "metadata": {
    "slideshow": {
     "slide_type": "slide"
    }
   },
   "source": [
    "## Outline\n",
    "\n",
    "* Introduction\n",
    "* Profiling\n",
    "* Speed up Python code using Cython\n",
    " * Basic principles\n",
    " * Interacting with NumPy arrays\n",
    "* Using Numba to speed up Python code"
   ]
  },
  {
   "cell_type": "markdown",
   "id": "6c8bb11f",
   "metadata": {
    "slideshow": {
     "slide_type": "notes"
    }
   },
   "source": [
    " * ~Release the GIL and parallelize easily~ *(moved to parallel lecture)*\n",
    " * ~Wrap C/C++ code~ *(not relevant enough)*"
   ]
  },
  {
   "cell_type": "markdown",
   "id": "64f5447c",
   "metadata": {
    "slideshow": {
     "slide_type": "slide"
    }
   },
   "source": [
    "## Introduction\n",
    "\n",
    "* Sometimes, it seems like the execution speed of some script is *the* thing which keeps you from your next scientific breakthrough\n",
    "* Both Cython and Numba are tools to make your code faster -> \"optimization\"\n",
    "* So when should you optimize your code?"
   ]
  },
  {
   "cell_type": "markdown",
   "id": "0f3dbbfb",
   "metadata": {
    "slideshow": {
     "slide_type": "notes"
    }
   },
   "source": [
    "oral exercise: give examples in which scenarios you would benefit from optimization"
   ]
  },
  {
   "cell_type": "markdown",
   "id": "af6284f4",
   "metadata": {
    "slideshow": {
     "slide_type": "slide"
    }
   },
   "source": [
    "## The three rules of optimization\n",
    "(adapted from Sebastian Witowski, EuroPython 2016)"
   ]
  },
  {
   "cell_type": "markdown",
   "id": "c68002fb",
   "metadata": {
    "slideshow": {
     "slide_type": "fragment"
    }
   },
   "source": [
    "#### 1. Don't.\n",
    " * Optimization comes with costs.\n",
    " * Likely you don't need it.\n",
    " * Invest in better hardware."
   ]
  },
  {
   "cell_type": "markdown",
   "id": "a95e50e4",
   "metadata": {
    "slideshow": {
     "slide_type": "notes"
    }
   },
   "source": [
    "oral exercise: give examples for costs associated with optimization"
   ]
  },
  {
   "cell_type": "markdown",
   "id": "b9c618af",
   "metadata": {
    "slideshow": {
     "slide_type": "fragment"
    }
   },
   "source": [
    "#### 2. Don't yet.\n",
    " * Is your code finished?\n",
    " * Did you write tests?\n",
    " * Are you sure it's worth the investment?"
   ]
  },
  {
   "cell_type": "markdown",
   "id": "bc5836da",
   "metadata": {
    "slideshow": {
     "slide_type": "fragment"
    }
   },
   "source": [
    "#### 3. Profile\n",
    "* Don't guess which part of your code you should optimize!\n",
    "* Measure. Measure. Measure."
   ]
  },
  {
   "cell_type": "markdown",
   "id": "1d467e3f",
   "metadata": {
    "slideshow": {
     "slide_type": "slide"
    }
   },
   "source": [
    "## Runtime profilers\n",
    "\n",
    "- profilers monitor the execution of your script and record, for example, how much time is spent in each function\n",
    "- here we consider [py-spy](https://github.com/benfred/py-spy), a sampling-based profiler for Python\n",
    "  - simply speaking `py-spy` examines your program after regular interval and records which part is currently executed\n",
    "- you can apply it to your script with `py-spy record -o profile.svg -- python myprogram.py`\n",
    "  - to make measurements accurate it needs to collect enough of data; you can control the \"sampling rate\" using the `-r` argument\n",
    "- after measuring `py-spy` will produce a \"flamegraph\" like the following\n",
    "![flamegraph](./figures/flamegraph.svg)"
   ]
  },
  {
   "cell_type": "code",
   "execution_count": null,
   "id": "be95d598",
   "metadata": {},
   "outputs": [],
   "source": [
    "!cat integrate_print.py"
   ]
  },
  {
   "cell_type": "code",
   "execution_count": null,
   "id": "792e233a",
   "metadata": {},
   "outputs": [],
   "source": [
    "%run integrate_print.py"
   ]
  },
  {
   "cell_type": "code",
   "execution_count": null,
   "id": "77318d12",
   "metadata": {},
   "outputs": [],
   "source": []
  },
  {
   "cell_type": "code",
   "execution_count": null,
   "id": "283543e9",
   "metadata": {},
   "outputs": [],
   "source": []
  },
  {
   "cell_type": "code",
   "execution_count": null,
   "id": "f7c8c937",
   "metadata": {},
   "outputs": [],
   "source": []
  },
  {
   "cell_type": "code",
   "execution_count": null,
   "id": "e3c2d6b7",
   "metadata": {},
   "outputs": [],
   "source": []
  },
  {
   "cell_type": "code",
   "execution_count": null,
   "id": "faa65c83",
   "metadata": {},
   "outputs": [],
   "source": []
  },
  {
   "cell_type": "code",
   "execution_count": null,
   "id": "405c8bc6",
   "metadata": {},
   "outputs": [],
   "source": []
  },
  {
   "cell_type": "code",
   "execution_count": null,
   "id": "c32a1090",
   "metadata": {},
   "outputs": [],
   "source": [
    "def f(x):\n",
    "    return x ** 4 - 3 * x"
   ]
  },
  {
   "cell_type": "code",
   "execution_count": null,
   "id": "ea274c4f",
   "metadata": {},
   "outputs": [],
   "source": [
    "%timeit integrate_f(f, -10, +10, 1_000_000)"
   ]
  },
  {
   "cell_type": "code",
   "execution_count": null,
   "id": "2f0a6033",
   "metadata": {},
   "outputs": [],
   "source": [
    "%load_ext cython"
   ]
  },
  {
   "cell_type": "code",
   "execution_count": null,
   "id": "0218369e",
   "metadata": {},
   "outputs": [],
   "source": [
    "%%cython\n",
    "\n",
    "def f(x):\n",
    "    return x ** 4 - 3 * x\n",
    "\n",
    "def integrate_f2(f, a, b, n):\n",
    "    dx = (b - a) / n\n",
    "    dx2 = dx / 2\n",
    "    s = f(a) * dx2\n",
    "    for i in range(1, n):\n",
    "        s += f(a + i * dx) * dx\n",
    "    s += f(b) * dx2\n",
    "    return s\n"
   ]
  },
  {
   "cell_type": "code",
   "execution_count": null,
   "id": "d161a055",
   "metadata": {},
   "outputs": [],
   "source": [
    "f, integrate_f2"
   ]
  },
  {
   "cell_type": "code",
   "execution_count": null,
   "id": "cb186b66",
   "metadata": {},
   "outputs": [],
   "source": [
    "sys.modules[f.__module__]"
   ]
  },
  {
   "cell_type": "code",
   "execution_count": null,
   "id": "f8fbdda9",
   "metadata": {},
   "outputs": [],
   "source": [
    "!file /home/zbyszek/.cache/ipython/cython/_cython_magic_a9dc65ed82a290407cecd88aeb8605c0.cpython-310-x86_64-linux-gnu.so"
   ]
  },
  {
   "cell_type": "code",
   "execution_count": null,
   "id": "738ee576",
   "metadata": {},
   "outputs": [],
   "source": [
    "%timeit integrate_f2(f, -10, +10, 1_000_000)"
   ]
  },
  {
   "cell_type": "code",
   "execution_count": null,
   "id": "02b04b4c",
   "metadata": {},
   "outputs": [],
   "source": [
    "%%cython -a\n",
    "\n",
    "def f(x):\n",
    "    return x ** 4 - 3 * x\n",
    "\n",
    "def integrate_f2(f, a, b, n):\n",
    "    dx = (b - a) / n\n",
    "    dx2 = dx / 2\n",
    "    s = f(a) * dx2\n",
    "    for i in range(1, n):\n",
    "        s += f(a + i * dx) * dx\n",
    "    s += f(b) * dx2\n",
    "    return s\n"
   ]
  },
  {
   "cell_type": "code",
   "execution_count": null,
   "id": "d122ce72",
   "metadata": {},
   "outputs": [],
   "source": [
    "%%cython -a\n",
    "\n",
    "def f3(x: double) -> double:\n",
    "    return x ** 4 - 3 * x\n",
    "\n",
    "def integrate_f3(f, a: double, b: double, n: int) -> double:\n",
    "    dx: double = (b - a) / n\n",
    "    dx2: double = dx / 2\n",
    "    s: double = f(a) * dx2\n",
    "    i: int = 0\n",
    "\n",
    "    for i in range(1, n):\n",
    "        s += f(a + i * dx) * dx\n",
    "    s += f(b) * dx2\n",
    "    return s\n"
   ]
  },
  {
   "cell_type": "code",
   "execution_count": null,
   "id": "9c98e661",
   "metadata": {},
   "outputs": [],
   "source": [
    "%timeit integrate_f3(f3, -10, +10, 1_000_000)"
   ]
  },
  {
   "cell_type": "code",
   "execution_count": null,
   "id": "7c4ac962",
   "metadata": {},
   "outputs": [],
   "source": []
  },
  {
   "cell_type": "code",
   "execution_count": null,
   "id": "3846893f",
   "metadata": {},
   "outputs": [],
   "source": []
  },
  {
   "cell_type": "code",
   "execution_count": null,
   "id": "2b9b4f97",
   "metadata": {},
   "outputs": [],
   "source": [
    "%%cython -a\n",
    "\n",
    "def f3a(double x):\n",
    "    return x ** 4 - 3 * x\n",
    "\n",
    "def integrate_f3a(f, double a, double b, int n) -> double:\n",
    "    cdef:\n",
    "        double dx = (b - a) / n\n",
    "        double dx2 = dx / 2\n",
    "        double s\n",
    "        int i\n",
    "\n",
    "    s = f(a) * dx2\n",
    "    for i in range(1, n):\n",
    "        s += f(a + i * dx) * dx\n",
    "    s += f(b) * dx2\n",
    "    return s\n"
   ]
  },
  {
   "cell_type": "code",
   "execution_count": null,
   "id": "30a515d4",
   "metadata": {},
   "outputs": [],
   "source": [
    "%timeit integrate_f3a(f3a, -10, +10, 1_000_000)"
   ]
  },
  {
   "cell_type": "code",
   "execution_count": null,
   "id": "ca74954f",
   "metadata": {},
   "outputs": [],
   "source": [
    "%%cython -a\n",
    "\n",
    "cdef double f4(double x):\n",
    "    return x ** 4 - 3 * x\n",
    "\n",
    "def integrate_f4(double a, double b, int n) -> double:\n",
    "    cdef:\n",
    "        double dx = (b - a) / n\n",
    "        double dx2 = dx / 2\n",
    "        double s\n",
    "        int i\n",
    "\n",
    "    s = f4(a) * dx2\n",
    "    for i in range(1, n):\n",
    "        s += f4(a + i * dx) * dx\n",
    "    s += f4(b) * dx2\n",
    "    return s\n"
   ]
  },
  {
   "cell_type": "code",
   "execution_count": null,
   "id": "5b22a312",
   "metadata": {},
   "outputs": [],
   "source": [
    "%timeit integrate_f4(-10, +10, 1_000_000)"
   ]
  },
  {
   "cell_type": "code",
   "execution_count": null,
   "id": "e94a7cb2",
   "metadata": {},
   "outputs": [],
   "source": []
  },
  {
   "cell_type": "code",
   "execution_count": null,
   "id": "9b238324",
   "metadata": {},
   "outputs": [],
   "source": []
  },
  {
   "cell_type": "code",
   "execution_count": null,
   "id": "d4caa7bf",
   "metadata": {},
   "outputs": [],
   "source": []
  },
  {
   "cell_type": "code",
   "execution_count": null,
   "id": "e91481a9",
   "metadata": {},
   "outputs": [],
   "source": []
  },
  {
   "cell_type": "code",
   "execution_count": null,
   "id": "180c5494",
   "metadata": {},
   "outputs": [],
   "source": []
  },
  {
   "cell_type": "code",
   "execution_count": null,
   "id": "c76c0c8b",
   "metadata": {},
   "outputs": [],
   "source": []
  },
  {
   "cell_type": "code",
   "execution_count": null,
   "id": "925be392",
   "metadata": {},
   "outputs": [],
   "source": []
  },
  {
   "cell_type": "code",
   "execution_count": null,
   "id": "5f7710c3",
   "metadata": {},
   "outputs": [],
   "source": []
  },
  {
   "cell_type": "code",
   "execution_count": null,
   "id": "07daccd7",
   "metadata": {},
   "outputs": [],
   "source": []
  },
  {
   "cell_type": "code",
   "execution_count": null,
   "id": "07e14a01",
   "metadata": {},
   "outputs": [],
   "source": []
  },
  {
   "cell_type": "code",
   "execution_count": null,
   "id": "c0e564ee",
   "metadata": {},
   "outputs": [],
   "source": [
    "%timeit integrate_f3(f3, -10, +10, 1_000_000)"
   ]
  },
  {
   "cell_type": "code",
   "execution_count": null,
   "id": "a107997b",
   "metadata": {},
   "outputs": [],
   "source": []
  },
  {
   "cell_type": "code",
   "execution_count": null,
   "id": "15922e37",
   "metadata": {},
   "outputs": [],
   "source": []
  },
  {
   "cell_type": "code",
   "execution_count": null,
   "id": "dc987a12",
   "metadata": {},
   "outputs": [],
   "source": [
    "%%cython?"
   ]
  },
  {
   "cell_type": "code",
   "execution_count": null,
   "id": "4d5c4f6f",
   "metadata": {},
   "outputs": [],
   "source": []
  },
  {
   "cell_type": "code",
   "execution_count": null,
   "id": "a2156fde",
   "metadata": {},
   "outputs": [],
   "source": []
  },
  {
   "cell_type": "code",
   "execution_count": null,
   "id": "1ea0e698",
   "metadata": {},
   "outputs": [],
   "source": []
  },
  {
   "cell_type": "code",
   "execution_count": null,
   "id": "d8e598e2",
   "metadata": {},
   "outputs": [],
   "source": []
  },
  {
   "cell_type": "code",
   "execution_count": null,
   "id": "e6f37548",
   "metadata": {},
   "outputs": [],
   "source": []
  },
  {
   "cell_type": "code",
   "execution_count": null,
   "id": "4f80ce64",
   "metadata": {},
   "outputs": [],
   "source": []
  },
  {
   "cell_type": "code",
   "execution_count": null,
   "id": "379fd7d5",
   "metadata": {},
   "outputs": [],
   "source": []
  },
  {
   "cell_type": "code",
   "execution_count": null,
   "id": "08f770a1",
   "metadata": {},
   "outputs": [],
   "source": []
  },
  {
   "cell_type": "code",
   "execution_count": null,
   "id": "279a623a",
   "metadata": {},
   "outputs": [],
   "source": []
  },
  {
   "cell_type": "code",
   "execution_count": null,
   "id": "67b2c952",
   "metadata": {},
   "outputs": [],
   "source": []
  },
  {
   "cell_type": "code",
   "execution_count": null,
   "id": "ebddbdc4",
   "metadata": {},
   "outputs": [],
   "source": [
    "def integrate_f0(f, a, b, n):\n",
    "    s = 0.0\n",
    "    for i in range(n):\n",
    "        dx = (b - a) / n\n",
    "        x = a + (i + 0.5) * dx\n",
    "        s += f(x) * dx\n",
    "    return s"
   ]
  },
  {
   "cell_type": "code",
   "execution_count": null,
   "id": "29d0b46a",
   "metadata": {},
   "outputs": [],
   "source": [
    "def integrate_f1(f, a, b, n):\n",
    "    dx = (b - a) / n\n",
    "    s = 0.0\n",
    "    for i in range(n):\n",
    "        x = a + (i + 0.5) * dx\n",
    "        s += f(x) * dx\n",
    "    return s"
   ]
  },
  {
   "cell_type": "code",
   "execution_count": null,
   "id": "39228884",
   "metadata": {},
   "outputs": [],
   "source": [
    "def integrate_f2(f, a, b, n):\n",
    "    dx = (b - a) / n\n",
    "    x = a + 0.5 * dx\n",
    "    s = 0.0\n",
    "    for i in range(n):\n",
    "        s += f(x) * dx\n",
    "        x += dx\n",
    "    return s"
   ]
  },
  {
   "cell_type": "code",
   "execution_count": null,
   "id": "768b4788",
   "metadata": {},
   "outputs": [],
   "source": [
    "def integrate_f3(f, a, b, n):\n",
    "    dx = (b - a) / n\n",
    "    x = a + 0.5 * dx\n",
    "    s = 0.0\n",
    "    for i in range(n):\n",
    "        s += f(x)\n",
    "        x += dx\n",
    "    return s * dx"
   ]
  },
  {
   "cell_type": "markdown",
   "execution_count": null,
   "id": "d3908a64",
   "metadata": {
    "slideshow": {
     "slide_type": "slide"
    }
   },
   "source": [
    "demo: explain how to read the flamegraph using a simple example"
   ]
  },
  {
   "cell_type": "code",
   "execution_count": null,
   "id": "76dfbd91",
   "metadata": {},
   "outputs": [],
   "source": [
    "## Example: numerical integration\n",
    "\n",
    "![RiemannSum](figures/MidRiemann2.svg)\n",
    "\n",
    "Riemann sum: $\\int_a^b dx f(x) \\approx \\sum_{i = 0}^{n - 1} f(a + (i + 0.5) \\Delta x) \\Delta x$ with $\\Delta x = (b - a)/n$\n",
    "\n",
    "here $a=0, b=2, n=4$"
   ]
  },
  {
   "cell_type": "markdown",
   "id": "2f42dbf1",
   "metadata": {
    "slideshow": {
     "slide_type": "slide"
    }
   },
   "source": [
    "### Example implementation\n",
    "(see [./profiling/numerical_integration.py](./profiling/numerical_integration.py))\n",
    "\n",
    "Where do you think the bottlenecks are? *(don't do this at home!)*"
   ]
  },
  {
   "cell_type": "markdown",
   "id": "26177d33",
   "metadata": {
    "slideshow": {
     "slide_type": "slide"
    }
   },
   "source": [
    "## Demo\n",
    "\n",
    "Jakob will demonstrate a typical profiling/optimization workflow based on this script."
   ]
  },
  {
   "cell_type": "markdown",
   "id": "5716f2bd",
   "metadata": {
    "slideshow": {
     "slide_type": "notes"
    }
   },
   "source": [
    "- time\n",
    "- py-spy\n",
    "- notebook (timeit/lprun)\n",
    "- time (of improved version)"
   ]
  },
  {
   "cell_type": "markdown",
   "id": "a416c304",
   "metadata": {
    "slideshow": {
     "slide_type": "slide"
    }
   },
   "source": [
    "## Exercise\n",
    "\n",
    "It's time to put theory into practice. We have prepared an example script (see [./profiling/count_words.py](./profiling/count_words.py)) which counts the number of occurences of words in a text.\n",
    "\n",
    "1. Familarize yourself with the script.\n",
    "2. Guess which parts are slow and should be optimized. *(don't do this at home.)*\n",
    "3. Use the workflow (time -> py-spy- > timeit/lprun -> time) we have just demonstrated to reduce the script's execution time. **Make sure not to break the tests.**\n",
    "\n",
    "Afterwards we will discuss the exercise jointly."
   ]
  },
  {
   "cell_type": "markdown",
   "id": "09601e96",
   "metadata": {
    "slideshow": {
     "slide_type": "slide"
    }
   },
   "source": [
    "## Exercise discussion\n",
    "\n",
    "What did we learn?\n",
    "- ..."
   ]
  },
  {
   "cell_type": "markdown",
   "id": "254ae127",
   "metadata": {
    "slideshow": {
     "slide_type": "slide"
    }
   },
   "source": [
    "## Profiling conclusion\n",
    "\n",
    "- before optimizing, first finish your code & write tests\n",
    "- then *measure* to find slow functions\n",
    "- optimize only the slowest functions & know when to stop!\n",
    "- [py-spy](https://github.com/benfred/py-spy) is just one of many profilers; alternatives:\n",
    "  - [cProfile](https://docs.python.org/3/library/profile.html) + [snakeviz](https://github.com/jiffyclub/snakeviz)\n",
    "  - [pyinstrument](https://github.com/joerick/pyinstrument)\n",
    "- here we focus on profiling *runtime*, but maybe you are limited by *memory*\n",
    "  - [memray](https://github.com/bloomberg/memray)"
   ]
  },
  {
   "cell_type": "markdown",
   "id": "83a6364b",
   "metadata": {
    "slideshow": {
     "slide_type": "notes"
    }
   },
   "source": [
    "- 80/20 rule\n",
    "- datastructures and algorithms\n",
    "- libraries\n",
    "- memoization/caching"
    ]
  },
  {
   "cell_type": "code",
   "execution_count": null,
   "id": "d1cc165b",
   "metadata": {},
   "outputs": [],
   "source": [
    "Profiling\n",
    "\n",
    "- %timeit\n",
    "- cProfile\n",
    "- pyprof2calltree + kcachegrind\n",
    "- gprof2dot ?\n",
    "- kernprof ?\n",
    "- py-spy, pyinstrument ?\n",
    "\n",
    "\n",
    "\n"
   ]
  }
 ],
 "metadata": {
  "celltoolbar": "Slideshow",
  "kernelspec": {
   "display_name": "Python 3 (ipykernel)",
   "language": "python",
   "name": "python3"
  },
  "language_info": {
   "codemirror_mode": {
    "name": "ipython",
    "version": 3
   },
   "file_extension": ".py",
   "mimetype": "text/x-python",
   "name": "python",
   "nbconvert_exporter": "python",
   "pygments_lexer": "ipython3",
   "version": "3.10.6"
  }
 },
 "nbformat": 4,
 "nbformat_minor": 5
}
