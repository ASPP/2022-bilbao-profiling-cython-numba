{
 "cells": [
  {
   "cell_type": "markdown",
   "id": "1d8331d3",
   "metadata": {
    "slideshow": {
     "slide_type": "slide"
    }
   },
   "source": [
    "# Profiling, Cython, and Numba 🚀\n",
    "### Zbyszek & Jakob\n",
    "### ASPP 2022, Bilbao, Spain"
   ]
  },
  {
   "cell_type": "markdown",
   "id": "6e140a02",
   "metadata": {
    "slideshow": {
     "slide_type": "slide"
    }
   },
   "source": [
    "## Outline\n",
    "\n",
    "* Introduction\n",
    "* Profiling\n",
    "* Speed up Python code using Cython\n",
    " * Basic principles\n",
    " * Interacting with NumPy arrays\n",
    " * ~Release the GIL and parallelize easily~ *(moved to parallel lecture)*\n",
    " * ~Wrap C/C++ code~\n",
    "* Using Numba to speed up Python code"
   ]
  },
  {
   "cell_type": "markdown",
   "id": "64f5447c",
   "metadata": {
    "slideshow": {
     "slide_type": "slide"
    }
   },
   "source": [
    "## Introduction\n",
    "\n",
    "* Sometimes, it seems like the execution speed of some script is *the* thing which keeps you from your next scientific breakthrough\n",
    "* Both Cython and Numba are tools to make your code faster -> \"optimization\"\n",
    "* So when should you optimize your code?"
   ]
  },
  {
   "cell_type": "markdown",
   "id": "0f3dbbfb",
   "metadata": {
    "slideshow": {
     "slide_type": "notes"
    }
   },
   "source": [
    "oral exercise: give examples where you would benefit from optimization"
   ]
  },
  {
   "cell_type": "markdown",
   "id": "af6284f4",
   "metadata": {
    "slideshow": {
     "slide_type": "slide"
    }
   },
   "source": [
    "## The three rules of optimization\n",
    "(adapted from Sebastian Witowski, EuroPython 2016)"
   ]
  },
  {
   "cell_type": "markdown",
   "id": "c68002fb",
   "metadata": {
    "slideshow": {
     "slide_type": "fragment"
    }
   },
   "source": [
    "#### 1. Don't.\n",
    " * Optimization comes with costs.\n",
    " * Likely you don't need it.\n",
    " * Invest in better hardware."
   ]
  },
  {
   "cell_type": "markdown",
   "id": "a95e50e4",
   "metadata": {
    "slideshow": {
     "slide_type": "notes"
    }
   },
   "source": [
    "oral exercise: give examples for costs associated with optimization"
   ]
  },
  {
   "cell_type": "markdown",
   "id": "b9c618af",
   "metadata": {
    "slideshow": {
     "slide_type": "fragment"
    }
   },
   "source": [
    "#### 2. Don't yet.\n",
    " * Is your code finished?\n",
    " * Did you write tests?\n",
    " * Are you sure it's worth the investment?"
   ]
  },
  {
   "cell_type": "markdown",
   "id": "bc5836da",
   "metadata": {
    "slideshow": {
     "slide_type": "fragment"
    }
   },
   "source": [
    "#### 3. Profile\n",
    "* Don't guess which part of your code you should optimize!\n",
    "* Measure. Measure. Measure."
   ]
  },
  {
   "cell_type": "markdown",
   "id": "ced08b76",
   "metadata": {
    "slideshow": {
     "slide_type": "notes"
    }
   },
   "source": [
    "- 80/20 rule\n",
    "- datastructures and algorithms\n",
    "- libraries\n",
    "- memoization/caching"
   ]
  },
  {
   "cell_type": "markdown",
   "id": "1d467e3f",
   "metadata": {
    "slideshow": {
     "slide_type": "slide"
    }
   },
   "source": [
    "### Profilers\n",
    "\n",
    "- profilers monitor the execution of your script and record, for example, how much time is spent in each function\n",
    "- here we consider [py-spy](https://github.com/benfred/py-spy), a sampling-based profiler for Python\n",
    "- you can apply it to your script with `py-spy record -o profile.svg -- python myprogram.py`\n",
    "- it will produce a \"flamegraph\" like the following\n",
    "![flamegraph](./figures/flamegraph.svg)"
   ]
  },
  {
   "cell_type": "markdown",
   "id": "e0aa05e6",
   "metadata": {
    "slideshow": {
     "slide_type": "slide"
    }
   },
   "source": [
    "### Example: numerical integration\n",
    "\n",
    "![RiemannSum](figures/MidRiemann2.svg)\n",
    "\n",
    "Riemann sum: $\\int_a^b dx f(x) \\approx \\sum_{i = 0}^{n - 1} f(a + (i + 0.5) \\Delta x) \\Delta x$ with $\\Delta x = (b - a)/n$\n",
    "\n",
    "here $a=0, b=2, n=4$"
   ]
  },
  {
   "cell_type": "markdown",
   "id": "2f42dbf1",
   "metadata": {
    "slideshow": {
     "slide_type": "slide"
    }
   },
   "source": [
    "### Example implementation\n",
    "(see [./numerical_integration.py](./numerical_integration.py))\n",
    "\n",
    "Where do you think the bottlenecks are? *(don't do this at home!)*"
   ]
  },
  {
   "cell_type": "markdown",
   "id": "dad54ee5",
   "metadata": {
    "slideshow": {
     "slide_type": "slide"
    }
   },
   "source": [
    "### Demo time\n",
    "\n",
    "Jakob will demonstrate the typical workflow based on this script."
   ]
  },
  {
   "cell_type": "markdown",
   "id": "5716f2bd",
   "metadata": {
    "slideshow": {
     "slide_type": "notes"
    }
   },
   "source": [
    "- time\n",
    "- py-spy\n",
    "- notebook (timeit/lprun)\n",
    "- time (of improved version)"
   ]
  },
  {
   "cell_type": "markdown",
   "id": "e75b92ae",
   "metadata": {
    "slideshow": {
     "slide_type": "slide"
    }
   },
   "source": [
    "### Exercise time\n",
    "\n",
    "Open the notebook XXX and work through the exercise with your partner.\n",
    "\n",
    "Afterwards we will discuss the results jointly."
   ]
  },
  {
   "cell_type": "markdown",
   "id": "6226845e",
   "metadata": {
    "slideshow": {
     "slide_type": "slide"
    }
   },
   "source": [
    "### Exercise conclusion"
   ]
  }
 ],
 "metadata": {
  "celltoolbar": "Slideshow",
  "kernelspec": {
   "display_name": "Python 3 (ipykernel)",
   "language": "python",
   "name": "python3"
  },
  "language_info": {
   "codemirror_mode": {
    "name": "ipython",
    "version": 3
   },
   "file_extension": ".py",
   "mimetype": "text/x-python",
   "name": "python",
   "nbconvert_exporter": "python",
   "pygments_lexer": "ipython3",
   "version": "3.8.12"
  }
 },
 "nbformat": 4,
 "nbformat_minor": 5
}
