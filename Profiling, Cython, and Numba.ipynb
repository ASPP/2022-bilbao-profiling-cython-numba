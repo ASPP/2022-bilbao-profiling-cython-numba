{
 "cells": [
  {
   "cell_type": "markdown",
   "id": "1d8331d3",
   "metadata": {
    "slideshow": {
     "slide_type": "slide"
    }
   },
   "source": [
    "# Profiling, Cython, and Numba 🚀\n",
    "### Zbyszek & Jakob\n",
    "### ASPP 2022, Bilbao, Spain"
   ]
  },
  {
   "cell_type": "markdown",
   "id": "6e140a02",
   "metadata": {
    "slideshow": {
     "slide_type": "slide"
    }
   },
   "source": [
    "## Outline\n",
    "\n",
    "* Introduction\n",
    "* Profiling\n",
    "* Speed up Python code using Cython\n",
    " * Basic principles\n",
    " * Interacting with NumPy arrays\n",
    "* Using Numba to speed up Python code"
   ]
  },
  {
   "cell_type": "markdown",
   "id": "6c8bb11f",
   "metadata": {
    "slideshow": {
     "slide_type": "notes"
    }
   },
   "source": [
    " * ~Release the GIL and parallelize easily~ *(moved to parallel lecture)*\n",
    " * ~Wrap C/C++ code~ *(not relevant enough)*"
   ]
  },
  {
   "cell_type": "markdown",
   "id": "64f5447c",
   "metadata": {
    "slideshow": {
     "slide_type": "slide"
    }
   },
   "source": [
    "## Introduction\n",
    "\n",
    "* Sometimes, it seems like the execution speed of some script is *the* thing which keeps you from your next scientific breakthrough\n",
    "* Both Cython and Numba are tools to make your code faster -> \"optimization\"\n",
    "* So when should you optimize your code?"
   ]
  },
  {
   "cell_type": "markdown",
   "id": "0f3dbbfb",
   "metadata": {
    "slideshow": {
     "slide_type": "notes"
    }
   },
   "source": [
    "oral exercise: give examples in which scenarios you would benefit from optimization"
   ]
  },
  {
   "cell_type": "markdown",
   "id": "af6284f4",
   "metadata": {
    "slideshow": {
     "slide_type": "slide"
    }
   },
   "source": [
    "## The three rules of optimization\n",
    "(adapted from Sebastian Witowski, EuroPython 2016)"
   ]
  },
  {
   "cell_type": "markdown",
   "id": "c68002fb",
   "metadata": {
    "slideshow": {
     "slide_type": "fragment"
    }
   },
   "source": [
    "#### 1. Don't.\n",
    " * Optimization comes with costs.\n",
    " * Likely you don't need it.\n",
    " * Invest in better hardware."
   ]
  },
  {
   "cell_type": "markdown",
   "id": "a95e50e4",
   "metadata": {
    "slideshow": {
     "slide_type": "notes"
    }
   },
   "source": [
    "oral exercise: give examples for costs associated with optimization"
   ]
  },
  {
   "cell_type": "markdown",
   "id": "b9c618af",
   "metadata": {
    "slideshow": {
     "slide_type": "fragment"
    }
   },
   "source": [
    "#### 2. Don't yet.\n",
    " * Is your code finished?\n",
    " * Did you write tests?\n",
    " * Are you sure it's worth the investment?"
   ]
  },
  {
   "cell_type": "markdown",
   "id": "bc5836da",
   "metadata": {
    "slideshow": {
     "slide_type": "fragment"
    }
   },
   "source": [
    "#### 3. Profile\n",
    "* Don't guess which part of your code you should optimize!\n",
    "* Measure. Measure. Measure."
   ]
  },
  {
   "cell_type": "markdown",
   "id": "1d467e3f",
   "metadata": {
    "slideshow": {
     "slide_type": "slide"
    }
   },
   "source": [
    "## Runtime profilers\n",
    "\n",
    "- profilers monitor the execution of your script and record, for example, how much time is spent in each function\n",
    "- here we consider [py-spy](https://github.com/benfred/py-spy), a sampling-based profiler for Python\n",
    "  - simply speaking `py-spy` examines your program after regular interval and records which part is currently executed\n",
    "- you can apply it to your script with `py-spy record -o profile.svg -- python myprogram.py`\n",
    "  - to make measurements accurate it needs to collect enough of data; you can control the \"sampling rate\" using the `-r` argument\n",
    "- after measuring `py-spy` will produce a \"flamegraph\" like the following\n",
    "![flamegraph](./figures/flamegraph.svg)"
   ]
  },
  {
   "cell_type": "markdown",
   "id": "e0aa05e6",
   "metadata": {
    "slideshow": {
     "slide_type": "slide"
    }
   },
   "source": [
    "## Example: numerical integration\n",
    "\n",
    "![RiemannSum](figures/MidRiemann2.svg)\n",
    "\n",
    "Riemann sum: $\\int_a^b dx f(x) \\approx \\sum_{i = 0}^{n - 1} f(a + (i + 0.5) \\Delta x) \\Delta x$ with $\\Delta x = (b - a)/n$\n",
    "\n",
    "here $a=0, b=2, n=4$"
   ]
  },
  {
   "cell_type": "markdown",
   "id": "2f42dbf1",
   "metadata": {
    "slideshow": {
     "slide_type": "slide"
    }
   },
   "source": [
    "### Example implementation\n",
    "(see [./profiling/numerical_integration.py](./profiling/numerical_integration.py))\n",
    "\n",
    "Where do you think the bottlenecks are? *(don't do this at home!)*"
   ]
  },
  {
   "cell_type": "code",
   "execution_count": null,
   "id": "49925643",
   "metadata": {},
   "outputs": [],
   "source": [
    "!pygmentize ./profiling/numerical_integration.py"
   ]
  },
  {
   "cell_type": "markdown",
   "id": "26177d33",
   "metadata": {
    "slideshow": {
     "slide_type": "slide"
    }
   },
   "source": [
    "## Demo\n",
    "\n",
    "Jakob will demonstrate a typical profiling/optimization workflow based on this script."
   ]
  },
  {
   "cell_type": "markdown",
   "id": "5716f2bd",
   "metadata": {
    "slideshow": {
     "slide_type": "notes"
    }
   },
   "source": [
    "- time\n",
    "- py-spy\n",
    "- notebook (timeit/lprun)\n",
    "- time (of improved version)"
   ]
  },
  {
   "cell_type": "markdown",
   "id": "a416c304",
   "metadata": {
    "slideshow": {
     "slide_type": "slide"
    }
   },
   "source": [
    "## Exercise\n",
    "\n",
    "It's time to put theory into practice. We have prepared an example script (see [./profiling/count_words.py](./profiling/count_words.py)) which counts the number of occurences of words in a text.\n",
    "\n",
    "1. Familarize yourself with the script.\n",
    "2. Guess which parts are slow and should be optimized. *(don't do this at home.)*\n",
    "3. Use the workflow (time -> py-spy- > timeit/lprun -> time) we have just demonstrated to reduce the script's execution time. **Make sure not to break the tests.**\n",
    "\n",
    "Afterwards we will discuss the exercise jointly."
   ]
  },
  {
   "cell_type": "markdown",
   "id": "09601e96",
   "metadata": {
    "slideshow": {
     "slide_type": "slide"
    }
   },
   "source": [
    "## Exercise discussion\n",
    "\n",
    "What did we learn?\n",
    "- ..."
   ]
  },
  {
   "cell_type": "markdown",
   "id": "254ae127",
   "metadata": {
    "slideshow": {
     "slide_type": "slide"
    }
   },
   "source": [
    "## Profiling conclusion\n",
    "\n",
    "- before optimizing, first finish your code & write tests\n",
    "- then *measure* to find slow functions\n",
    "- optimize only the slowest functions & know when to stop!\n",
    "- most profilers can be invoked stand-alone and within ipython\n",
    "- `time` and `%timeit` and also `import timeit; timeit.time('some_func()')`\n",
    "- [py-spy](https://github.com/benfred/py-spy) is just one of many profilers; alternatives:\n",
    "  - [cProfile](https://docs.python.org/3/library/profile.html) + [snakeviz](https://github.com/jiffyclub/snakeviz)\n",
    "  - [pyinstrument](https://github.com/joerick/pyinstrument)\n",
    "- here we focus on profiling *runtime*, but maybe you are limited by *memory*\n",
    "  - [memray](https://github.com/bloomberg/memray)"
   ]
  },
  {
   "cell_type": "markdown",
   "id": "83a6364b",
   "metadata": {
    "slideshow": {
     "slide_type": "notes"
    }
   },
   "source": [
    "- 80/20 rule\n",
    "\n",
    "### What to do (in order of complexity):\n",
    "- do nothing\n",
    "- buy better hardware\n",
    "- data structures and algorithms\n",
    "- memoization / caching\n",
    "- vectorization (`numpy`!!)\n",
    "- libraries (`blas` vs. `openblas` vs. `atlas` vs. Intel `mkl`)\n",
    "- parallelization\n",
    "- GPUs\n",
    "- cython / numba / pythran\n",
    "- low-level code\n"
   ]
  },
  {
   "cell_type": "markdown",
   "id": "66c1b68d",
   "metadata": {},
   "source": [
    "## Cython"
   ]
  },
  {
   "cell_type": "code",
   "execution_count": null,
   "id": "c32a1090",
   "metadata": {},
   "outputs": [],
   "source": [
    "def f(x):\n",
    "    return x ** 4 - 3 * x\n",
    "\n",
    "def integrate_f(func, a, b, n):\n",
    "    s = 0\n",
    "    dx = (b - a) / n\n",
    "    \n",
    "    s += func(a) * dx/2\n",
    "    for i in range(1, n):\n",
    "        s += func(a + n * dx) * dx\n",
    "    s += func(b) * dx/2\n",
    "    return s"
   ]
  },
  {
   "cell_type": "code",
   "execution_count": null,
   "id": "7c175dbb",
   "metadata": {},
   "outputs": [],
   "source": [
    "integrate_f(f, -10, +10, 1_000_000)"
   ]
  },
  {
   "cell_type": "code",
   "execution_count": null,
   "id": "ea274c4f",
   "metadata": {},
   "outputs": [],
   "source": []
  },
  {
   "cell_type": "code",
   "execution_count": null,
   "id": "2f0a6033",
   "metadata": {},
   "outputs": [],
   "source": []
  },
  {
   "cell_type": "code",
   "execution_count": null,
   "id": "0218369e",
   "metadata": {},
   "outputs": [],
   "source": [
    "%%cython\n",
    "\n"
   ]
  },
  {
   "cell_type": "code",
   "execution_count": null,
   "id": "d161a055",
   "metadata": {},
   "outputs": [],
   "source": [
    "f2, integrate_f2"
   ]
  },
  {
   "cell_type": "code",
   "execution_count": null,
   "id": "cb186b66",
   "metadata": {},
   "outputs": [],
   "source": [
    "sys.modules[f2.__module__]"
   ]
  },
  {
   "cell_type": "code",
   "execution_count": null,
   "id": "f8fbdda9",
   "metadata": {},
   "outputs": [],
   "source": [
    "!file ..."
   ]
  },
  {
   "cell_type": "code",
   "execution_count": null,
   "id": "11f5aca7",
   "metadata": {},
   "outputs": [],
   "source": [
    "integrate_f2(f2, -10, +10, 1_000_000)"
   ]
  },
  {
   "cell_type": "code",
   "execution_count": null,
   "id": "738ee576",
   "metadata": {},
   "outputs": [],
   "source": []
  },
  {
   "cell_type": "code",
   "execution_count": null,
   "id": "d122ce72",
   "metadata": {},
   "outputs": [],
   "source": []
  },
  {
   "cell_type": "code",
   "execution_count": null,
   "id": "d38d6036",
   "metadata": {},
   "outputs": [],
   "source": [
    "integrate_f3(f3, -10, +10, 1_000_000)"
   ]
  },
  {
   "cell_type": "code",
   "execution_count": null,
   "id": "9c98e661",
   "metadata": {},
   "outputs": [],
   "source": [
    "%timeit integrate_f3(f3, -10, +10, 1_000_000)"
   ]
  },
  {
   "cell_type": "code",
   "execution_count": null,
   "id": "7c4ac962",
   "metadata": {},
   "outputs": [],
   "source": []
  },
  {
   "cell_type": "code",
   "execution_count": null,
   "id": "3846893f",
   "metadata": {},
   "outputs": [],
   "source": [
    "integrate_f4(f4, -10, +10, 1_000_000)"
   ]
  },
  {
   "cell_type": "code",
   "execution_count": null,
   "id": "ed522072",
   "metadata": {},
   "outputs": [],
   "source": [
    "%timeit integrate_f4(f4, -10, +10, 1_000_000)"
   ]
  },
  {
   "cell_type": "markdown",
   "id": "7fe70695",
   "metadata": {
    "slideshow": {
     "slide_type": "-"
    }
   },
   "source": [
    "## Exercise 01-cython-primes\n",
    "\n",
    "Please open `01-cython-primes/exercise.ipynb` and follow instructions therein."
   ]
  },
  {
   "cell_type": "markdown",
   "id": "6b29f03e",
   "metadata": {},
   "source": [
    "### Cython function type specialization"
   ]
  },
  {
   "cell_type": "code",
   "execution_count": null,
   "id": "fe6ee4ae",
   "metadata": {},
   "outputs": [],
   "source": []
  },
  {
   "cell_type": "code",
   "execution_count": null,
   "id": "ca74954f",
   "metadata": {},
   "outputs": [],
   "source": []
  },
  {
   "cell_type": "code",
   "execution_count": null,
   "id": "5b22a312",
   "metadata": {},
   "outputs": [],
   "source": [
    "%timeit integrate_f4(-10, +10, 1_000_000)"
   ]
  },
  {
   "cell_type": "markdown",
   "id": "fdbe9245",
   "metadata": {},
   "source": [
    "### Cython formula optimization"
   ]
  },
  {
   "cell_type": "code",
   "execution_count": null,
   "id": "9990b21c",
   "metadata": {},
   "outputs": [],
   "source": []
  },
  {
   "cell_type": "markdown",
   "id": "52768b44",
   "metadata": {
    "slideshow": {
     "slide_type": "-"
    }
   },
   "source": [
    "## Exercise: 02-cython-distrib\n",
    "\n",
    " Please open a terminal, `cd` to `02-cython-distrib/`, and follow the instructions in `README`."
   ]
  },
  {
   "cell_type": "code",
   "execution_count": null,
   "id": "783c7a43",
   "metadata": {},
   "outputs": [],
   "source": []
  },
  {
   "cell_type": "markdown",
   "id": "5afbe2d3",
   "metadata": {},
   "source": [
    "\n",
    "\n",
    "\n",
    "### When `setup.py` and when `meson.build`?\n",
    "\n",
    "[<img src=\"images/logo-over-white.svg\" width=\"100\"/>](images/logo-over-white.svg)\n",
    "\n",
    "- setuptools is (still) the standard in the Python ecosystem\n",
    "- excellent integration with PyPI and other Python packages\n",
    "- automatic downloads from PyPI\n",
    "- clumsy integration with non-Python libraries\n",
    "- weak support for optional dependencies and partial rebuilds\n",
    "\n",
    "[<img src=\"images/Meson_(software)_logo_2019.svg\" width=\"180\"/>](images/Meson_(software)_logo_2019.svg)\n",
    "\n",
    "- Meson is arguably the best available build system for compiled code\n",
    "- excellent integration with pkgconfig and other system libraries\n",
    "- integration with PyPI via pip, somewhat clumsy\n",
    "- excellent support for user configuration, optional dependencies, and partial rebuilds\n",
    "\n",
    "Thus, if setuptools is a good solution for Python projects with some Cython code, and no dependencies on system libraries. Meson is a good solution for some self-contained Python and/or Cython code, possibly alongside other non-Python libraries and executables."
   ]
  },
  {
   "cell_type": "code",
   "execution_count": null,
   "id": "587c13af",
   "metadata": {},
   "outputs": [],
   "source": []
  },
  {
   "cell_type": "markdown",
   "id": "f8e77134",
   "metadata": {},
   "source": [
    "# Cython and Numpy Arrays"
   ]
  },
  {
   "cell_type": "markdown",
   "id": "a46ecb85",
   "metadata": {},
   "source": [
    "### A sum"
   ]
  },
  {
   "cell_type": "markdown",
   "id": "f8cbf32a",
   "metadata": {},
   "source": [
    "Let's start by summing up an array"
   ]
  },
  {
   "cell_type": "code",
   "execution_count": null,
   "id": "f3a3a353",
   "metadata": {},
   "outputs": [],
   "source": []
  },
  {
   "cell_type": "code",
   "execution_count": null,
   "id": "83a89190",
   "metadata": {},
   "outputs": [],
   "source": []
  },
  {
   "cell_type": "markdown",
   "id": "6b17ea1d",
   "metadata": {},
   "source": [
    "### More realistic example"
   ]
  },
  {
   "cell_type": "markdown",
   "id": "a54ef430",
   "metadata": {},
   "source": [
    "Let's write a \"mean filter\"\n"
   ]
  },
  {
   "cell_type": "markdown",
   "id": "1ffbd9ca",
   "metadata": {},
   "source": [
    "$$ \\{ x_0, x_1, ...  , x_{n-2}, x_n \\} \\longrightarrow \\{ \\frac{x_0 + x_1}{2}, \\frac{x_0 + x_1 + x_2}{3}, \\frac{x_1 + x_2 + x_3}{3}, ... , \\frac{x_{i-1} + x_i + x_{i+1}}{3}, ... , \\frac{x_{n-3} + x_{n-2} + x_{n-1}}{3}, \\frac{x_{n-2} + x_{n-1}}{2} \\} $$"
   ]
  },
  {
   "cell_type": "code",
   "execution_count": 2,
   "id": "9fddfb85",
   "metadata": {},
   "outputs": [],
   "source": [
    "import numpy as np\n",
    "\n",
    "def mean3filter(arr):\n",
    "    ..."
   ]
  },
  {
   "cell_type": "markdown",
   "id": "bbc3581f",
   "metadata": {},
   "source": [
    "# Wrapping external code in Cython"
   ]
  },
  {
   "cell_type": "code",
   "execution_count": null,
   "id": "73670ba0",
   "metadata": {},
   "outputs": [],
   "source": [
    "f3"
   ]
  },
  {
   "cell_type": "markdown",
   "id": "a3b35b39",
   "metadata": {},
   "source": [
    "# Numba"
   ]
  },
  {
   "cell_type": "code",
   "execution_count": null,
   "id": "8ab556b2",
   "metadata": {},
   "outputs": [],
   "source": []
  },
  {
   "cell_type": "code",
   "execution_count": null,
   "id": "b5414daa",
   "metadata": {},
   "outputs": [],
   "source": [
    "%timeit integrate_f(f, -10, +10, 1_000_000)"
   ]
  },
  {
   "cell_type": "code",
   "execution_count": null,
   "id": "1dace462",
   "metadata": {},
   "outputs": [],
   "source": []
  },
  {
   "cell_type": "code",
   "execution_count": null,
   "id": "f02c48b0",
   "metadata": {},
   "outputs": [],
   "source": []
  },
  {
   "cell_type": "code",
   "execution_count": null,
   "id": "111f8319",
   "metadata": {},
   "outputs": [],
   "source": []
  },
  {
   "cell_type": "code",
   "execution_count": null,
   "id": "a06e8b13",
   "metadata": {},
   "outputs": [],
   "source": []
  },
  {
   "cell_type": "markdown",
   "id": "38b7e123",
   "metadata": {},
   "source": [
    "# Architecture of Cython and Numba"
   ]
  },
  {
   "cell_type": "markdown",
   "id": "e2b1fff5",
   "metadata": {},
   "source": [
    "[<img src=\"images/cython_architecture.png\" width=\"400\"/>](images/cython_architecture.png)"
   ]
  },
  {
   "cell_type": "markdown",
   "id": "4f12364b",
   "metadata": {},
   "source": [
    "[<img src=\"images/numba_architecture.png\" width=\"400\" />](images/numba_architecture.png)"
   ]
  },
  {
   "cell_type": "code",
   "execution_count": null,
   "id": "a80eab14",
   "metadata": {},
   "outputs": [],
   "source": []
  }
 ],
 "metadata": {
  "celltoolbar": "Slideshow",
  "kernelspec": {
   "display_name": "Python 3 (ipykernel)",
   "language": "python",
   "name": "python3"
  },
  "language_info": {
   "codemirror_mode": {
    "name": "ipython",
    "version": 3
   },
   "file_extension": ".py",
   "mimetype": "text/x-python",
   "name": "python",
   "nbconvert_exporter": "python",
   "pygments_lexer": "ipython3",
   "version": "3.10.6"
  }
 },
 "nbformat": 4,
 "nbformat_minor": 5
}
