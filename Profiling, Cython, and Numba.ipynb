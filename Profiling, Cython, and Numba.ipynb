{
 "cells": [
  {
   "cell_type": "markdown",
   "id": "1d8331d3",
   "metadata": {
    "slideshow": {
     "slide_type": "slide"
    }
   },
   "source": [
    "# Profiling, Cython, and Numba 🚀\n",
    "### Zbyszek & Jakob\n",
    "### ASPP 2022, Bilbao, Spain"
   ]
  },
  {
   "cell_type": "markdown",
   "id": "6e140a02",
   "metadata": {
    "slideshow": {
     "slide_type": "slide"
    }
   },
   "source": [
    "## Outline\n",
    "\n",
    "* Introduction\n",
    "* Profiling\n",
    "* Speed up Python code using Cython\n",
    " * Basic principles\n",
    " * Interacting with NumPy arrays\n",
    " * Release the GIL and parallelize easily\n",
    " * Wrap C/C++ code\n",
    "* Using Numba to speed up Python code"
   ]
  },
  {
   "cell_type": "markdown",
   "id": "64f5447c",
   "metadata": {
    "slideshow": {
     "slide_type": "slide"
    }
   },
   "source": [
    "## Introduction\n",
    "\n",
    "* Sometimes, it seems like the execution speed of some script is *the* thing which keeps you from your next scientific breakthrough\n",
    "* Both Cython and Numba are tools to make your code faster -> \"optimization\"\n",
    "* So when should you optimize your code?"
   ]
  },
  {
   "cell_type": "markdown",
   "id": "54c6362e",
   "metadata": {
    "slideshow": {
     "slide_type": "notes"
    }
   },
   "source": [
    "oral exercise: give examples where you would benefit from optimization"
   ]
  },
  {
   "cell_type": "markdown",
   "id": "af6284f4",
   "metadata": {
    "slideshow": {
     "slide_type": "slide"
    }
   },
   "source": [
    "## The three rules of optimization\n",
    "(adapted from Sebastian Witowski, EuroPython 2016)"
   ]
  },
  {
   "cell_type": "markdown",
   "id": "c68002fb",
   "metadata": {
    "slideshow": {
     "slide_type": "fragment"
    }
   },
   "source": [
    "#### 1. Don't.\n",
    " * Optimization comes with costs.\n",
    " * Likely you don't need it.\n",
    " * Invest in better hardware."
   ]
  },
  {
   "cell_type": "markdown",
   "id": "699315cc",
   "metadata": {
    "slideshow": {
     "slide_type": "notes"
    }
   },
   "source": [
    "oral exercise: give examples for costs associated with optimization"
   ]
  },
  {
   "cell_type": "markdown",
   "id": "b9c618af",
   "metadata": {
    "slideshow": {
     "slide_type": "fragment"
    }
   },
   "source": [
    "#### 2. Don't yet.\n",
    " * Is your code finished?\n",
    " * Did you write tests?\n",
    " * Are you sure it's worth the investment?"
   ]
  },
  {
   "cell_type": "markdown",
   "id": "bc5836da",
   "metadata": {
    "slideshow": {
     "slide_type": "fragment"
    }
   },
   "source": [
    "#### 3. Profile\n",
    "* Don't guess which part of your code you should optimize!\n",
    "* Measure. Measure. Measure."
   ]
  },
  {
   "cell_type": "markdown",
   "id": "bae8e9f9",
   "metadata": {
    "slideshow": {
     "slide_type": "slide"
    }
   },
   "source": [
    "(explain example: numerical integration)\n",
    "f = lambda x: x ** 4 - 3 * x"
   ]
  },
  {
   "cell_type": "markdown",
   "id": "732b2ee8",
   "metadata": {
    "slideshow": {
     "slide_type": "slide"
    }
   },
   "source": [
    "(explain pyspy/sampling-based profilers)"
   ]
  },
  {
   "cell_type": "markdown",
   "id": "3e09860c",
   "metadata": {
    "slideshow": {
     "slide_type": "notes"
    }
   },
   "source": [
    "(demonstration; storyline: time, py-spy, notebook (timeit/lprun), time)"
   ]
  }
 ],
 "metadata": {
  "celltoolbar": "Slideshow",
  "kernelspec": {
   "display_name": "Python 3 (ipykernel)",
   "language": "python",
   "name": "python3"
  },
  "language_info": {
   "codemirror_mode": {
    "name": "ipython",
    "version": 3
   },
   "file_extension": ".py",
   "mimetype": "text/x-python",
   "name": "python",
   "nbconvert_exporter": "python",
   "pygments_lexer": "ipython3",
   "version": "3.8.12"
  }
 },
 "nbformat": 4,
 "nbformat_minor": 5
}
