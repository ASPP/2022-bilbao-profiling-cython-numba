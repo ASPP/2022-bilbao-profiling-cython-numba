{
 "cells": [
  {
   "cell_type": "markdown",
   "id": "1d8331d3",
   "metadata": {
    "slideshow": {
     "slide_type": "slide"
    }
   },
   "source": [
    "# Profiling, Cython, and Numba 🚀\n",
    "### Zbyszek & Jakob\n",
    "### ASPP 2022, Bilbao, Spain"
   ]
  },
  {
   "cell_type": "markdown",
   "id": "6e140a02",
   "metadata": {
    "slideshow": {
     "slide_type": "slide"
    }
   },
   "source": [
    "## Outline\n",
    "\n",
    "* Introduction\n",
    "* Profiling\n",
    "* Speed up Python code using Cython\n",
    " * Basic principles\n",
    " * Interacting with NumPy arrays\n",
    "* Using Numba to speed up Python code"
   ]
  },
  {
   "cell_type": "markdown",
   "id": "6c8bb11f",
   "metadata": {
    "slideshow": {
     "slide_type": "notes"
    }
   },
   "source": [
    " * ~Release the GIL and parallelize easily~ *(moved to parallel lecture)*\n",
    " * ~Wrap C/C++ code~ *(not relevant enough)*"
   ]
  },
  {
   "cell_type": "markdown",
   "id": "64f5447c",
   "metadata": {
    "slideshow": {
     "slide_type": "slide"
    }
   },
   "source": [
    "## Introduction\n",
    "\n",
    "* Sometimes, it seems like the execution speed of some script is *the* thing which keeps you from your next scientific breakthrough\n",
    "* Both Cython and Numba are tools to make your code faster -> \"optimization\"\n",
    "* So when should you optimize your code?"
   ]
  },
  {
   "cell_type": "markdown",
   "id": "0f3dbbfb",
   "metadata": {
    "slideshow": {
     "slide_type": "notes"
    }
   },
   "source": [
    "oral exercise: give examples in which scenarios you would benefit from optimization"
   ]
  },
  {
   "cell_type": "markdown",
   "id": "af6284f4",
   "metadata": {
    "slideshow": {
     "slide_type": "slide"
    }
   },
   "source": [
    "## The three rules of optimization\n",
    "(adapted from Sebastian Witowski, EuroPython 2016)"
   ]
  },
  {
   "cell_type": "markdown",
   "id": "c68002fb",
   "metadata": {
    "slideshow": {
     "slide_type": "fragment"
    }
   },
   "source": [
    "#### 1. Don't.\n",
    " * Optimization comes with costs.\n",
    " * Likely you don't need it.\n",
    " * Invest in better hardware."
   ]
  },
  {
   "cell_type": "markdown",
   "id": "a95e50e4",
   "metadata": {
    "slideshow": {
     "slide_type": "notes"
    }
   },
   "source": [
    "oral exercise: give examples for costs associated with optimization"
   ]
  },
  {
   "cell_type": "markdown",
   "id": "b9c618af",
   "metadata": {
    "slideshow": {
     "slide_type": "fragment"
    }
   },
   "source": [
    "#### 2. Don't yet.\n",
    " * Is your code finished?\n",
    " * Did you write tests?\n",
    " * Are you sure it's worth the investment?"
   ]
  },
  {
   "cell_type": "markdown",
   "id": "bc5836da",
   "metadata": {
    "slideshow": {
     "slide_type": "fragment"
    }
   },
   "source": [
    "#### 3. Profile\n",
    "* Don't guess which part of your code you should optimize!\n",
    "* Measure. Measure. Measure."
   ]
  },
  {
   "cell_type": "markdown",
   "id": "1d467e3f",
   "metadata": {
    "slideshow": {
     "slide_type": "slide"
    }
   },
   "source": [
    "## Runtime profilers\n",
    "\n",
    "- profilers monitor the execution of your script and record, for example, how much time is spent in each function\n",
    "- here we consider [py-spy](https://github.com/benfred/py-spy), a sampling-based profiler for Python\n",
    "  - simply speaking `py-spy` examines your program after regular interval and records which part is currently executed\n",
    "- you can apply it to your script with `py-spy record -o profile.svg -- python myprogram.py`\n",
    "  - to make measurements accurate it needs to collect enough of data; you can control the \"sampling rate\" using the `-r` argument\n",
    "- after measuring `py-spy` will produce a \"flamegraph\" like the following\n",
    "![flamegraph](./figures/flamegraph.svg)"
   ]
  },
  {
   "cell_type": "markdown",
   "id": "e0aa05e6",
   "metadata": {
    "slideshow": {
     "slide_type": "slide"
    }
   },
   "source": [
    "## Example: numerical integration\n",
    "\n",
    "![RiemannSum](figures/MidRiemann2.svg)\n",
    "\n",
    "Riemann sum: $\\int_a^b dx f(x) \\approx \\sum_{i = 0}^{n - 1} f(a + (i + 0.5) \\Delta x) \\Delta x$ with $\\Delta x = (b - a)/n$\n",
    "\n",
    "here $a=0, b=2, n=4$"
   ]
  },
  {
   "cell_type": "markdown",
   "id": "2f42dbf1",
   "metadata": {
    "slideshow": {
     "slide_type": "slide"
    }
   },
   "source": [
    "### Example implementation\n",
    "(see [./profiling/numerical_integration.py](./profiling/numerical_integration.py))\n",
    "\n",
    "Where do you think the bottlenecks are? *(don't do this at home!)*"
   ]
  },
  {
   "cell_type": "code",
   "execution_count": 8,
   "id": "bdb52d9c",
   "metadata": {},
   "outputs": [
    {
     "name": "stdout",
     "output_type": "stream",
     "text": [
      "\u001b[34mimport\u001b[39;49;00m \u001b[04m\u001b[36margparse\u001b[39;49;00m\r\n",
      "\r\n",
      "\u001b[34mimport\u001b[39;49;00m \u001b[04m\u001b[36mmatplotlib\u001b[39;49;00m\u001b[04m\u001b[36m.\u001b[39;49;00m\u001b[04m\u001b[36mpyplot\u001b[39;49;00m \u001b[34mas\u001b[39;49;00m \u001b[04m\u001b[36mplt\u001b[39;49;00m\r\n",
      "\u001b[34mimport\u001b[39;49;00m \u001b[04m\u001b[36mnumpy\u001b[39;49;00m \u001b[34mas\u001b[39;49;00m \u001b[04m\u001b[36mnp\u001b[39;49;00m\r\n",
      "\r\n",
      "\r\n",
      "\u001b[34mdef\u001b[39;49;00m \u001b[32mparse_arguments\u001b[39;49;00m():\r\n",
      "    parser = argparse.ArgumentParser(\r\n",
      "        description=\u001b[33m\"\u001b[39;49;00m\u001b[33mMeasure error of numerical intergration.\u001b[39;49;00m\u001b[33m\"\u001b[39;49;00m\r\n",
      "    )\r\n",
      "    parser.add_argument(\r\n",
      "        \u001b[33m\"\u001b[39;49;00m\u001b[33mn_max\u001b[39;49;00m\u001b[33m\"\u001b[39;49;00m,\r\n",
      "        \u001b[36mtype\u001b[39;49;00m=\u001b[36mint\u001b[39;49;00m,\r\n",
      "        help=\u001b[33m\"\u001b[39;49;00m\u001b[33mmaximal number of bins to use for integration\u001b[39;49;00m\u001b[33m\"\u001b[39;49;00m,\r\n",
      "    )\r\n",
      "    parser.add_argument(\r\n",
      "        \u001b[33m\"\u001b[39;49;00m\u001b[33ma\u001b[39;49;00m\u001b[33m\"\u001b[39;49;00m, \u001b[36mtype\u001b[39;49;00m=\u001b[36mfloat\u001b[39;49;00m, help=\u001b[33m\"\u001b[39;49;00m\u001b[33mlower bound for integration\u001b[39;49;00m\u001b[33m\"\u001b[39;49;00m\r\n",
      "    )\r\n",
      "    parser.add_argument(\r\n",
      "        \u001b[33m\"\u001b[39;49;00m\u001b[33mb\u001b[39;49;00m\u001b[33m\"\u001b[39;49;00m, \u001b[36mtype\u001b[39;49;00m=\u001b[36mfloat\u001b[39;49;00m, help=\u001b[33m\"\u001b[39;49;00m\u001b[33mupper bound for integration\u001b[39;49;00m\u001b[33m\"\u001b[39;49;00m\r\n",
      "    )\r\n",
      "\r\n",
      "    \u001b[34mreturn\u001b[39;49;00m parser.parse_args()\r\n",
      "\r\n",
      "\r\n",
      "\u001b[34mdef\u001b[39;49;00m \u001b[32mintegrate\u001b[39;49;00m(f, a, b, n):\r\n",
      "    s = []\r\n",
      "    \u001b[34mfor\u001b[39;49;00m i \u001b[35min\u001b[39;49;00m \u001b[36mrange\u001b[39;49;00m(n):\r\n",
      "        dx = (b - a) / n\r\n",
      "        x = a + (i + \u001b[34m0.5\u001b[39;49;00m) * dx\r\n",
      "        y = f(x)\r\n",
      "        s = s + [y * dx]\r\n",
      "    \u001b[34mreturn\u001b[39;49;00m \u001b[36msum\u001b[39;49;00m(s)\r\n",
      "\r\n",
      "\r\n",
      "\u001b[34mdef\u001b[39;49;00m \u001b[32mmeasure_integration_errors\u001b[39;49;00m(f, F, n_max, a, b):\r\n",
      "    errors = []\r\n",
      "    \u001b[34mfor\u001b[39;49;00m n \u001b[35min\u001b[39;49;00m \u001b[36mrange\u001b[39;49;00m(\u001b[34m1\u001b[39;49;00m, n_max, \u001b[34m10\u001b[39;49;00m):\r\n",
      "        F_analytical = F(b) - F(a)\r\n",
      "        F_numerical = integrate(f, a, b, n)\r\n",
      "        error = \u001b[36mabs\u001b[39;49;00m(F_analytical - F_numerical)\r\n",
      "        errors = errors + [error]\r\n",
      "    \u001b[34mreturn\u001b[39;49;00m errors\r\n",
      "\r\n",
      "\r\n",
      "\u001b[34mdef\u001b[39;49;00m \u001b[32mplot_results\u001b[39;49;00m(n_max, errors):\r\n",
      "    fig = plt.figure()\r\n",
      "    ax = fig.add_subplot(\u001b[34m111\u001b[39;49;00m)\r\n",
      "    ax.set_xlim(\u001b[34m1\u001b[39;49;00m, n_max)\r\n",
      "    ax.set_ylim(\u001b[34m1e-7\u001b[39;49;00m, \u001b[36mmax\u001b[39;49;00m(errors))\r\n",
      "    ax.set_xlabel(\u001b[33m\"\u001b[39;49;00m\u001b[33mNumber of bins\u001b[39;49;00m\u001b[33m\"\u001b[39;49;00m)\r\n",
      "    ax.set_ylabel(\u001b[33m\"\u001b[39;49;00m\u001b[33mAbsolute error\u001b[39;49;00m\u001b[33m\"\u001b[39;49;00m)\r\n",
      "    ax.set_yscale(\u001b[33m\"\u001b[39;49;00m\u001b[33mlog\u001b[39;49;00m\u001b[33m\"\u001b[39;49;00m)\r\n",
      "    ax.plot(\u001b[36mrange\u001b[39;49;00m(\u001b[34m1\u001b[39;49;00m, n_max, \u001b[34m10\u001b[39;49;00m), errors)\r\n",
      "    fig.savefig(\u001b[33m\"\u001b[39;49;00m\u001b[33mnumerical_integration_error.pdf\u001b[39;49;00m\u001b[33m\"\u001b[39;49;00m)\r\n",
      "\r\n",
      "\r\n",
      "\u001b[34mdef\u001b[39;49;00m \u001b[32mmain\u001b[39;49;00m():\r\n",
      "    args = parse_arguments()\r\n",
      "\r\n",
      "    \u001b[34mdef\u001b[39;49;00m \u001b[32mf\u001b[39;49;00m(x):\r\n",
      "        \u001b[34mreturn\u001b[39;49;00m x ** \u001b[34m4\u001b[39;49;00m - \u001b[34m3\u001b[39;49;00m * x\r\n",
      "\r\n",
      "    \u001b[34mdef\u001b[39;49;00m \u001b[32mF\u001b[39;49;00m(x):\r\n",
      "        \u001b[34mreturn\u001b[39;49;00m \u001b[34m1\u001b[39;49;00m / \u001b[34m5\u001b[39;49;00m * x ** \u001b[34m5\u001b[39;49;00m - \u001b[34m3\u001b[39;49;00m / \u001b[34m2\u001b[39;49;00m * x ** \u001b[34m2\u001b[39;49;00m\r\n",
      "\r\n",
      "    errors = measure_integration_errors(f, F, args.n_max, args.a, args.b)\r\n",
      "    plot_results(args.n_max, errors)\r\n",
      "\r\n",
      "\r\n",
      "\u001b[34mif\u001b[39;49;00m \u001b[31m__name__\u001b[39;49;00m == \u001b[33m\"\u001b[39;49;00m\u001b[33m__main__\u001b[39;49;00m\u001b[33m\"\u001b[39;49;00m:\r\n",
      "    main()\r\n"
     ]
    }
   ],
   "source": [
    "!pygmentize ./profiling/numerical_integration.py"
   ]
  },
  {
   "cell_type": "markdown",
   "id": "26177d33",
   "metadata": {
    "slideshow": {
     "slide_type": "slide"
    }
   },
   "source": [
    "## Demo\n",
    "\n",
    "Jakob will demonstrate a typical profiling/optimization workflow based on this script."
   ]
  },
  {
   "cell_type": "markdown",
   "id": "5716f2bd",
   "metadata": {
    "slideshow": {
     "slide_type": "notes"
    }
   },
   "source": [
    "- time\n",
    "- py-spy\n",
    "- notebook (timeit/lprun)\n",
    "- time (of improved version)"
   ]
  },
  {
   "cell_type": "markdown",
   "id": "a416c304",
   "metadata": {
    "slideshow": {
     "slide_type": "slide"
    }
   },
   "source": [
    "## Exercise\n",
    "\n",
    "It's time to put theory into practice. We have prepared an example script (see [./profiling/count_words.py](./profiling/count_words.py)) which counts the number of occurences of words in a text.\n",
    "\n",
    "1. Familarize yourself with the script.\n",
    "2. Guess which parts are slow and should be optimized. *(don't do this at home.)*\n",
    "3. Use the workflow (time -> py-spy- > timeit/lprun -> time) we have just demonstrated to reduce the script's execution time. **Make sure not to break the tests.**\n",
    "\n",
    "Afterwards we will discuss the exercise jointly."
   ]
  },
  {
   "cell_type": "markdown",
   "id": "09601e96",
   "metadata": {
    "slideshow": {
     "slide_type": "slide"
    }
   },
   "source": [
    "## Exercise discussion\n",
    "\n",
    "What did we learn?\n",
    "- ..."
   ]
  },
  {
   "cell_type": "markdown",
   "id": "254ae127",
   "metadata": {
    "slideshow": {
     "slide_type": "slide"
    }
   },
   "source": [
    "## Profiling conclusion\n",
    "\n",
    "- before optimizing, first finish your code & write tests\n",
    "- then *measure* to find slow functions\n",
    "- optimize only the slowest functions & know when to stop!\n",
    "- most profilers can be invoked stand-alone and within ipython\n",
    "- `time` and `%timeit` and also `import timeit; timeit.time('some_func()')`\n",
    "- [py-spy](https://github.com/benfred/py-spy) is just one of many profilers; alternatives:\n",
    "  - [cProfile](https://docs.python.org/3/library/profile.html) + [snakeviz](https://github.com/jiffyclub/snakeviz)\n",
    "  - [pyinstrument](https://github.com/joerick/pyinstrument)\n",
    "- here we focus on profiling *runtime*, but maybe you are limited by *memory*\n",
    "  - [memray](https://github.com/bloomberg/memray)"
   ]
  },
  {
   "cell_type": "markdown",
   "id": "83a6364b",
   "metadata": {
    "slideshow": {
     "slide_type": "notes"
    }
   },
   "source": [
    "- 80/20 rule\n",
    "\n",
    "### What to do (in order of complexity):\n",
    "- do nothing\n",
    "- buy better hardware\n",
    "- data structures and algorithms\n",
    "- memoization / caching\n",
    "- vectorization (`numpy`!!)\n",
    "- libraries (`blas` vs. `openblas` vs. `atlas` vs. Intel `mkl`)\n",
    "- parallelization\n",
    "- GPUs\n",
    "- cython / numba / pythran\n",
    "- low-level code\n"
   ]
  },
  {
   "cell_type": "markdown",
   "id": "7d66894a",
   "metadata": {},
   "source": [
    "## Cython"
   ]
  },
  {
   "cell_type": "code",
   "execution_count": 14,
   "id": "c32a1090",
   "metadata": {},
   "outputs": [],
   "source": [
    "def f(x):\n",
    "    return x ** 4 - 3 * x\n",
    "\n",
    "def integrate_f(func, a, b, n):\n",
    "    s = 0\n",
    "    dx = (b - a) / n\n",
    "    \n",
    "    s += func(a) * dx/2\n",
    "    for i in range(1, n):\n",
    "        s += func(a + n * dx) * dx\n",
    "    s += func(b) * dx/2\n",
    "    return s"
   ]
  },
  {
   "cell_type": "code",
   "execution_count": 15,
   "id": "730ce284",
   "metadata": {},
   "outputs": [
    {
     "data": {
      "text/plain": [
       "199400.00060315797"
      ]
     },
     "execution_count": 15,
     "metadata": {},
     "output_type": "execute_result"
    }
   ],
   "source": [
    "integrate_f(f, -10, +10, 1_000_000)"
   ]
  },
  {
   "cell_type": "code",
   "execution_count": 16,
   "id": "ea274c4f",
   "metadata": {},
   "outputs": [
    {
     "name": "stdout",
     "output_type": "stream",
     "text": [
      "303 ms ± 19.9 ms per loop (mean ± std. dev. of 7 runs, 1 loop each)\n"
     ]
    }
   ],
   "source": [
    "%timeit integrate_f(f, -10, +10, 1_000_000)"
   ]
  },
  {
   "cell_type": "code",
   "execution_count": 17,
   "id": "2f0a6033",
   "metadata": {},
   "outputs": [
    {
     "name": "stdout",
     "output_type": "stream",
     "text": [
      "The cython extension is already loaded. To reload it, use:\n",
      "  %reload_ext cython\n"
     ]
    }
   ],
   "source": [
    "%load_ext cython"
   ]
  },
  {
   "cell_type": "code",
   "execution_count": 19,
   "id": "0218369e",
   "metadata": {},
   "outputs": [],
   "source": [
    "%%cython\n",
    "\n",
    "def f2(x):\n",
    "    return x ** 4 - 3 * x\n",
    "\n",
    "def integrate_f2(func, a, b, n):\n",
    "    s = 0\n",
    "    dx = (b - a) / n\n",
    "    \n",
    "    s += func(a) * dx/2\n",
    "    for i in range(1, n):\n",
    "        s += func(a + n * dx) * dx\n",
    "    s += func(b) * dx/2\n",
    "    return s"
   ]
  },
  {
   "cell_type": "code",
   "execution_count": 22,
   "id": "d161a055",
   "metadata": {},
   "outputs": [
    {
     "data": {
      "text/plain": [
       "(<function _cython_magic_5c6075df9c1dca66216cfb2e434e0104.f2>,\n",
       " <function _cython_magic_5c6075df9c1dca66216cfb2e434e0104.integrate_f2>)"
      ]
     },
     "execution_count": 22,
     "metadata": {},
     "output_type": "execute_result"
    }
   ],
   "source": [
    "f2, integrate_f2"
   ]
  },
  {
   "cell_type": "code",
   "execution_count": 23,
   "id": "cb186b66",
   "metadata": {},
   "outputs": [
    {
     "data": {
      "text/plain": [
       "<module '_cython_magic_5c6075df9c1dca66216cfb2e434e0104' (/home/zbyszek/.cache/ipython/cython/_cython_magic_5c6075df9c1dca66216cfb2e434e0104.cpython-310-x86_64-linux-gnu.so)>"
      ]
     },
     "execution_count": 23,
     "metadata": {},
     "output_type": "execute_result"
    }
   ],
   "source": [
    "sys.modules[f2.__module__]"
   ]
  },
  {
   "cell_type": "code",
   "execution_count": null,
   "id": "f8fbdda9",
   "metadata": {},
   "outputs": [],
   "source": [
    "!file /home/zbyszek/.cache/ipython/cython/_cython_magic_a9dc65ed82a290407cecd88aeb8605c0.cpython-310-x86_64-linux-gnu.so"
   ]
  },
  {
   "cell_type": "code",
   "execution_count": 24,
   "id": "072945d9",
   "metadata": {},
   "outputs": [
    {
     "data": {
      "text/plain": [
       "199400.00060315797"
      ]
     },
     "execution_count": 24,
     "metadata": {},
     "output_type": "execute_result"
    }
   ],
   "source": [
    "integrate_f2(f2, -10, +10, 1_000_000)"
   ]
  },
  {
   "cell_type": "code",
   "execution_count": 25,
   "id": "738ee576",
   "metadata": {},
   "outputs": [
    {
     "name": "stdout",
     "output_type": "stream",
     "text": [
      "241 ms ± 22.7 ms per loop (mean ± std. dev. of 7 runs, 1 loop each)\n"
     ]
    }
   ],
   "source": [
    "%timeit integrate_f2(f2, -10, +10, 1_000_000)"
   ]
  },
  {
   "cell_type": "code",
   "execution_count": 28,
   "id": "d122ce72",
   "metadata": {},
   "outputs": [],
   "source": [
    "%%cython\n",
    "\n",
    "def f3(double x):\n",
    "    return x ** 4 - 3 * x\n",
    "\n",
    "def integrate_f3(func, double a, double b, int n):\n",
    "    cdef:\n",
    "        double s = 0\n",
    "        double dx = (b - a) / n\n",
    "    \n",
    "    s += func(a) * dx/2\n",
    "    for i in range(1, n):\n",
    "        s += func(a + n * dx) * dx\n",
    "    s += func(b) * dx/2\n",
    "    return s"
   ]
  },
  {
   "cell_type": "code",
   "execution_count": 29,
   "id": "1e45ecb4",
   "metadata": {},
   "outputs": [
    {
     "data": {
      "text/plain": [
       "199400.00060315797"
      ]
     },
     "execution_count": 29,
     "metadata": {},
     "output_type": "execute_result"
    }
   ],
   "source": [
    "integrate_f3(f3, -10, +10, 1_000_000)"
   ]
  },
  {
   "cell_type": "code",
   "execution_count": 30,
   "id": "9c98e661",
   "metadata": {},
   "outputs": [
    {
     "name": "stdout",
     "output_type": "stream",
     "text": [
      "93.3 ms ± 1.07 ms per loop (mean ± std. dev. of 7 runs, 10 loops each)\n"
     ]
    }
   ],
   "source": [
    "%timeit integrate_f3(f3, -10, +10, 1_000_000)"
   ]
  },
  {
   "cell_type": "code",
   "execution_count": 31,
   "id": "7c4ac962",
   "metadata": {},
   "outputs": [],
   "source": [
    "%%cython\n",
    "\n",
    "def f4(double x):\n",
    "    return x ** 4 - 3 * x\n",
    "\n",
    "def integrate_f4(func, double a, double b, int n):\n",
    "    cdef double s = 0\n",
    "    cdef double dx = (b - a) / n\n",
    "    \n",
    "    s += func(a) * dx/2\n",
    "    \n",
    "    cdef int i\n",
    "    for i in range(1, n):\n",
    "        s += func(a + n * dx) * dx\n",
    "    \n",
    "    s += func(b) * dx/2\n",
    "    \n",
    "    return s"
   ]
  },
  {
   "cell_type": "code",
   "execution_count": 32,
   "id": "3846893f",
   "metadata": {},
   "outputs": [
    {
     "data": {
      "text/plain": [
       "199400.00060315797"
      ]
     },
     "execution_count": 32,
     "metadata": {},
     "output_type": "execute_result"
    }
   ],
   "source": [
    "integrate_f4(f4, -10, +10, 1_000_000)"
   ]
  },
  {
   "cell_type": "code",
   "execution_count": 34,
   "id": "17ad450a",
   "metadata": {},
   "outputs": [
    {
     "name": "stdout",
     "output_type": "stream",
     "text": [
      "93.5 ms ± 3.24 ms per loop (mean ± std. dev. of 7 runs, 10 loops each)\n"
     ]
    }
   ],
   "source": [
    "%timeit integrate_f4(f4, -10, +10, 1_000_000)"
   ]
  },
  {
   "cell_type": "markdown",
   "id": "6b6c02ac",
   "metadata": {
    "slideshow": {
     "slide_type": "-"
    }
   },
   "source": [
    "## Exercise 01-cython-primes\n",
    "\n",
    "Please open `01-cython-primes/exercise.ipynb` and follow instructions therein."
   ]
  },
  {
   "cell_type": "markdown",
   "id": "f949b33b",
   "metadata": {},
   "source": [
    "### Cython function type specialization"
   ]
  },
  {
   "cell_type": "code",
   "execution_count": null,
   "id": "a2f75a50",
   "metadata": {},
   "outputs": [],
   "source": []
  },
  {
   "cell_type": "code",
   "execution_count": null,
   "id": "ca74954f",
   "metadata": {},
   "outputs": [],
   "source": [
    "%%cython -a\n",
    "\n",
    "cdef double f4(double x):\n",
    "    return x ** 4 - 3 * x\n",
    "\n",
    "def integrate_f4(double a, double b, int n) -> double:\n",
    "    cdef:\n",
    "        double dx = (b - a) / n\n",
    "        double dx2 = dx / 2\n",
    "        double s\n",
    "        int i\n",
    "\n",
    "    s = f4(a) * dx2\n",
    "    for i in range(1, n):\n",
    "        s += f4(a + i * dx) * dx\n",
    "    s += f4(b) * dx2\n",
    "    return s\n"
   ]
  },
  {
   "cell_type": "code",
   "execution_count": null,
   "id": "5b22a312",
   "metadata": {},
   "outputs": [],
   "source": [
    "%timeit integrate_f4(-10, +10, 1_000_000)"
   ]
  },
  {
   "cell_type": "markdown",
   "id": "c5da31a1",
   "metadata": {},
   "source": [
    "### Cython formula optimization"
   ]
  },
  {
   "cell_type": "code",
   "execution_count": null,
   "id": "13c7d191",
   "metadata": {},
   "outputs": [],
   "source": []
  },
  {
   "cell_type": "markdown",
   "id": "c6da95ad",
   "metadata": {
    "slideshow": {
     "slide_type": "-"
    }
   },
   "source": [
    "## Exercise: 02-cython-distrib\n",
    "\n",
    " Please open a terminal, `cd` to `02-cython-distrib/`, and follow the instructions in `README`."
   ]
  },
  {
   "cell_type": "code",
   "execution_count": null,
   "id": "6fc6190e",
   "metadata": {},
   "outputs": [],
   "source": []
  },
  {
   "cell_type": "markdown",
   "id": "13f963a2",
   "metadata": {},
   "source": [
    "\n",
    "\n",
    "\n",
    "### When `setup.py` and when `meson.build`?\n",
    "\n",
    "[<img src=\"images/logo-over-white.svg\" width=\"100\"/>](images/logo-over-white.svg)\n",
    "\n",
    "- setuptools is (still) the standard in the Python ecosystem\n",
    "- excellent integration with PyPI and other Python packages\n",
    "- automatic downloads from PyPI\n",
    "- clumsy integration with non-Python libraries\n",
    "- weak support for optional dependencies and partial rebuilds\n",
    "\n",
    "[<img src=\"images/Meson_(software)_logo_2019.svg\" width=\"180\"/>](images/Meson_(software)_logo_2019.svg)\n",
    "\n",
    "- Meson is arguably the best available build system for compiled code\n",
    "- excellent integration with pkgconfig and other system libraries\n",
    "- integration with PyPI via pip, somewhat clumsy\n",
    "- excellent support for user configuration, optional dependencies, and partial rebuilds\n",
    "\n",
    "Thus, if setuptools is a good solution for Python projects with some Cython code, and no dependencies on system libraries. Meson is a good solution for some self-contained Python and/or Cython code, possibly alongside other non-Python libraries and executables."
   ]
  },
  {
   "cell_type": "code",
   "execution_count": null,
   "id": "307e171f",
   "metadata": {},
   "outputs": [],
   "source": []
  },
  {
   "cell_type": "markdown",
   "id": "54ed1a06",
   "metadata": {},
   "source": [
    "# Cython and Numpy Arrays"
   ]
  },
  {
   "cell_type": "markdown",
   "id": "38658ae6",
   "metadata": {},
   "source": [
    "Let's start by summing up an array"
   ]
  },
  {
   "cell_type": "code",
   "execution_count": 62,
   "id": "e9f6b11b",
   "metadata": {},
   "outputs": [
    {
     "data": {
      "text/html": [
       "<!DOCTYPE html>\n",
       "<!-- Generated by Cython 0.29.26 -->\n",
       "<html>\n",
       "<head>\n",
       "    <meta http-equiv=\"Content-Type\" content=\"text/html; charset=utf-8\" />\n",
       "    <title>Cython: _cython_magic_a312d200cbc7da0aceb9cdb3d39e668f.pyx</title>\n",
       "    <style type=\"text/css\">\n",
       "    \n",
       "body.cython { font-family: courier; font-size: 12; }\n",
       "\n",
       ".cython.tag  {  }\n",
       ".cython.line { margin: 0em }\n",
       ".cython.code { font-size: 9; color: #444444; display: none; margin: 0px 0px 0px 8px; border-left: 8px none; }\n",
       "\n",
       ".cython.line .run { background-color: #B0FFB0; }\n",
       ".cython.line .mis { background-color: #FFB0B0; }\n",
       ".cython.code.run  { border-left: 8px solid #B0FFB0; }\n",
       ".cython.code.mis  { border-left: 8px solid #FFB0B0; }\n",
       "\n",
       ".cython.code .py_c_api  { color: red; }\n",
       ".cython.code .py_macro_api  { color: #FF7000; }\n",
       ".cython.code .pyx_c_api  { color: #FF3000; }\n",
       ".cython.code .pyx_macro_api  { color: #FF7000; }\n",
       ".cython.code .refnanny  { color: #FFA000; }\n",
       ".cython.code .trace  { color: #FFA000; }\n",
       ".cython.code .error_goto  { color: #FFA000; }\n",
       "\n",
       ".cython.code .coerce  { color: #008000; border: 1px dotted #008000 }\n",
       ".cython.code .py_attr { color: #FF0000; font-weight: bold; }\n",
       ".cython.code .c_attr  { color: #0000FF; }\n",
       ".cython.code .py_call { color: #FF0000; font-weight: bold; }\n",
       ".cython.code .c_call  { color: #0000FF; }\n",
       "\n",
       ".cython.score-0 {background-color: #FFFFff;}\n",
       ".cython.score-1 {background-color: #FFFFe7;}\n",
       ".cython.score-2 {background-color: #FFFFd4;}\n",
       ".cython.score-3 {background-color: #FFFFc4;}\n",
       ".cython.score-4 {background-color: #FFFFb6;}\n",
       ".cython.score-5 {background-color: #FFFFaa;}\n",
       ".cython.score-6 {background-color: #FFFF9f;}\n",
       ".cython.score-7 {background-color: #FFFF96;}\n",
       ".cython.score-8 {background-color: #FFFF8d;}\n",
       ".cython.score-9 {background-color: #FFFF86;}\n",
       ".cython.score-10 {background-color: #FFFF7f;}\n",
       ".cython.score-11 {background-color: #FFFF79;}\n",
       ".cython.score-12 {background-color: #FFFF73;}\n",
       ".cython.score-13 {background-color: #FFFF6e;}\n",
       ".cython.score-14 {background-color: #FFFF6a;}\n",
       ".cython.score-15 {background-color: #FFFF66;}\n",
       ".cython.score-16 {background-color: #FFFF62;}\n",
       ".cython.score-17 {background-color: #FFFF5e;}\n",
       ".cython.score-18 {background-color: #FFFF5b;}\n",
       ".cython.score-19 {background-color: #FFFF57;}\n",
       ".cython.score-20 {background-color: #FFFF55;}\n",
       ".cython.score-21 {background-color: #FFFF52;}\n",
       ".cython.score-22 {background-color: #FFFF4f;}\n",
       ".cython.score-23 {background-color: #FFFF4d;}\n",
       ".cython.score-24 {background-color: #FFFF4b;}\n",
       ".cython.score-25 {background-color: #FFFF48;}\n",
       ".cython.score-26 {background-color: #FFFF46;}\n",
       ".cython.score-27 {background-color: #FFFF44;}\n",
       ".cython.score-28 {background-color: #FFFF43;}\n",
       ".cython.score-29 {background-color: #FFFF41;}\n",
       ".cython.score-30 {background-color: #FFFF3f;}\n",
       ".cython.score-31 {background-color: #FFFF3e;}\n",
       ".cython.score-32 {background-color: #FFFF3c;}\n",
       ".cython.score-33 {background-color: #FFFF3b;}\n",
       ".cython.score-34 {background-color: #FFFF39;}\n",
       ".cython.score-35 {background-color: #FFFF38;}\n",
       ".cython.score-36 {background-color: #FFFF37;}\n",
       ".cython.score-37 {background-color: #FFFF36;}\n",
       ".cython.score-38 {background-color: #FFFF35;}\n",
       ".cython.score-39 {background-color: #FFFF34;}\n",
       ".cython.score-40 {background-color: #FFFF33;}\n",
       ".cython.score-41 {background-color: #FFFF32;}\n",
       ".cython.score-42 {background-color: #FFFF31;}\n",
       ".cython.score-43 {background-color: #FFFF30;}\n",
       ".cython.score-44 {background-color: #FFFF2f;}\n",
       ".cython.score-45 {background-color: #FFFF2e;}\n",
       ".cython.score-46 {background-color: #FFFF2d;}\n",
       ".cython.score-47 {background-color: #FFFF2c;}\n",
       ".cython.score-48 {background-color: #FFFF2b;}\n",
       ".cython.score-49 {background-color: #FFFF2b;}\n",
       ".cython.score-50 {background-color: #FFFF2a;}\n",
       ".cython.score-51 {background-color: #FFFF29;}\n",
       ".cython.score-52 {background-color: #FFFF29;}\n",
       ".cython.score-53 {background-color: #FFFF28;}\n",
       ".cython.score-54 {background-color: #FFFF27;}\n",
       ".cython.score-55 {background-color: #FFFF27;}\n",
       ".cython.score-56 {background-color: #FFFF26;}\n",
       ".cython.score-57 {background-color: #FFFF26;}\n",
       ".cython.score-58 {background-color: #FFFF25;}\n",
       ".cython.score-59 {background-color: #FFFF24;}\n",
       ".cython.score-60 {background-color: #FFFF24;}\n",
       ".cython.score-61 {background-color: #FFFF23;}\n",
       ".cython.score-62 {background-color: #FFFF23;}\n",
       ".cython.score-63 {background-color: #FFFF22;}\n",
       ".cython.score-64 {background-color: #FFFF22;}\n",
       ".cython.score-65 {background-color: #FFFF22;}\n",
       ".cython.score-66 {background-color: #FFFF21;}\n",
       ".cython.score-67 {background-color: #FFFF21;}\n",
       ".cython.score-68 {background-color: #FFFF20;}\n",
       ".cython.score-69 {background-color: #FFFF20;}\n",
       ".cython.score-70 {background-color: #FFFF1f;}\n",
       ".cython.score-71 {background-color: #FFFF1f;}\n",
       ".cython.score-72 {background-color: #FFFF1f;}\n",
       ".cython.score-73 {background-color: #FFFF1e;}\n",
       ".cython.score-74 {background-color: #FFFF1e;}\n",
       ".cython.score-75 {background-color: #FFFF1e;}\n",
       ".cython.score-76 {background-color: #FFFF1d;}\n",
       ".cython.score-77 {background-color: #FFFF1d;}\n",
       ".cython.score-78 {background-color: #FFFF1c;}\n",
       ".cython.score-79 {background-color: #FFFF1c;}\n",
       ".cython.score-80 {background-color: #FFFF1c;}\n",
       ".cython.score-81 {background-color: #FFFF1c;}\n",
       ".cython.score-82 {background-color: #FFFF1b;}\n",
       ".cython.score-83 {background-color: #FFFF1b;}\n",
       ".cython.score-84 {background-color: #FFFF1b;}\n",
       ".cython.score-85 {background-color: #FFFF1a;}\n",
       ".cython.score-86 {background-color: #FFFF1a;}\n",
       ".cython.score-87 {background-color: #FFFF1a;}\n",
       ".cython.score-88 {background-color: #FFFF1a;}\n",
       ".cython.score-89 {background-color: #FFFF19;}\n",
       ".cython.score-90 {background-color: #FFFF19;}\n",
       ".cython.score-91 {background-color: #FFFF19;}\n",
       ".cython.score-92 {background-color: #FFFF19;}\n",
       ".cython.score-93 {background-color: #FFFF18;}\n",
       ".cython.score-94 {background-color: #FFFF18;}\n",
       ".cython.score-95 {background-color: #FFFF18;}\n",
       ".cython.score-96 {background-color: #FFFF18;}\n",
       ".cython.score-97 {background-color: #FFFF17;}\n",
       ".cython.score-98 {background-color: #FFFF17;}\n",
       ".cython.score-99 {background-color: #FFFF17;}\n",
       ".cython.score-100 {background-color: #FFFF17;}\n",
       ".cython.score-101 {background-color: #FFFF16;}\n",
       ".cython.score-102 {background-color: #FFFF16;}\n",
       ".cython.score-103 {background-color: #FFFF16;}\n",
       ".cython.score-104 {background-color: #FFFF16;}\n",
       ".cython.score-105 {background-color: #FFFF16;}\n",
       ".cython.score-106 {background-color: #FFFF15;}\n",
       ".cython.score-107 {background-color: #FFFF15;}\n",
       ".cython.score-108 {background-color: #FFFF15;}\n",
       ".cython.score-109 {background-color: #FFFF15;}\n",
       ".cython.score-110 {background-color: #FFFF15;}\n",
       ".cython.score-111 {background-color: #FFFF15;}\n",
       ".cython.score-112 {background-color: #FFFF14;}\n",
       ".cython.score-113 {background-color: #FFFF14;}\n",
       ".cython.score-114 {background-color: #FFFF14;}\n",
       ".cython.score-115 {background-color: #FFFF14;}\n",
       ".cython.score-116 {background-color: #FFFF14;}\n",
       ".cython.score-117 {background-color: #FFFF14;}\n",
       ".cython.score-118 {background-color: #FFFF13;}\n",
       ".cython.score-119 {background-color: #FFFF13;}\n",
       ".cython.score-120 {background-color: #FFFF13;}\n",
       ".cython.score-121 {background-color: #FFFF13;}\n",
       ".cython.score-122 {background-color: #FFFF13;}\n",
       ".cython.score-123 {background-color: #FFFF13;}\n",
       ".cython.score-124 {background-color: #FFFF13;}\n",
       ".cython.score-125 {background-color: #FFFF12;}\n",
       ".cython.score-126 {background-color: #FFFF12;}\n",
       ".cython.score-127 {background-color: #FFFF12;}\n",
       ".cython.score-128 {background-color: #FFFF12;}\n",
       ".cython.score-129 {background-color: #FFFF12;}\n",
       ".cython.score-130 {background-color: #FFFF12;}\n",
       ".cython.score-131 {background-color: #FFFF12;}\n",
       ".cython.score-132 {background-color: #FFFF11;}\n",
       ".cython.score-133 {background-color: #FFFF11;}\n",
       ".cython.score-134 {background-color: #FFFF11;}\n",
       ".cython.score-135 {background-color: #FFFF11;}\n",
       ".cython.score-136 {background-color: #FFFF11;}\n",
       ".cython.score-137 {background-color: #FFFF11;}\n",
       ".cython.score-138 {background-color: #FFFF11;}\n",
       ".cython.score-139 {background-color: #FFFF11;}\n",
       ".cython.score-140 {background-color: #FFFF11;}\n",
       ".cython.score-141 {background-color: #FFFF10;}\n",
       ".cython.score-142 {background-color: #FFFF10;}\n",
       ".cython.score-143 {background-color: #FFFF10;}\n",
       ".cython.score-144 {background-color: #FFFF10;}\n",
       ".cython.score-145 {background-color: #FFFF10;}\n",
       ".cython.score-146 {background-color: #FFFF10;}\n",
       ".cython.score-147 {background-color: #FFFF10;}\n",
       ".cython.score-148 {background-color: #FFFF10;}\n",
       ".cython.score-149 {background-color: #FFFF10;}\n",
       ".cython.score-150 {background-color: #FFFF0f;}\n",
       ".cython.score-151 {background-color: #FFFF0f;}\n",
       ".cython.score-152 {background-color: #FFFF0f;}\n",
       ".cython.score-153 {background-color: #FFFF0f;}\n",
       ".cython.score-154 {background-color: #FFFF0f;}\n",
       ".cython.score-155 {background-color: #FFFF0f;}\n",
       ".cython.score-156 {background-color: #FFFF0f;}\n",
       ".cython.score-157 {background-color: #FFFF0f;}\n",
       ".cython.score-158 {background-color: #FFFF0f;}\n",
       ".cython.score-159 {background-color: #FFFF0f;}\n",
       ".cython.score-160 {background-color: #FFFF0f;}\n",
       ".cython.score-161 {background-color: #FFFF0e;}\n",
       ".cython.score-162 {background-color: #FFFF0e;}\n",
       ".cython.score-163 {background-color: #FFFF0e;}\n",
       ".cython.score-164 {background-color: #FFFF0e;}\n",
       ".cython.score-165 {background-color: #FFFF0e;}\n",
       ".cython.score-166 {background-color: #FFFF0e;}\n",
       ".cython.score-167 {background-color: #FFFF0e;}\n",
       ".cython.score-168 {background-color: #FFFF0e;}\n",
       ".cython.score-169 {background-color: #FFFF0e;}\n",
       ".cython.score-170 {background-color: #FFFF0e;}\n",
       ".cython.score-171 {background-color: #FFFF0e;}\n",
       ".cython.score-172 {background-color: #FFFF0e;}\n",
       ".cython.score-173 {background-color: #FFFF0d;}\n",
       ".cython.score-174 {background-color: #FFFF0d;}\n",
       ".cython.score-175 {background-color: #FFFF0d;}\n",
       ".cython.score-176 {background-color: #FFFF0d;}\n",
       ".cython.score-177 {background-color: #FFFF0d;}\n",
       ".cython.score-178 {background-color: #FFFF0d;}\n",
       ".cython.score-179 {background-color: #FFFF0d;}\n",
       ".cython.score-180 {background-color: #FFFF0d;}\n",
       ".cython.score-181 {background-color: #FFFF0d;}\n",
       ".cython.score-182 {background-color: #FFFF0d;}\n",
       ".cython.score-183 {background-color: #FFFF0d;}\n",
       ".cython.score-184 {background-color: #FFFF0d;}\n",
       ".cython.score-185 {background-color: #FFFF0d;}\n",
       ".cython.score-186 {background-color: #FFFF0d;}\n",
       ".cython.score-187 {background-color: #FFFF0c;}\n",
       ".cython.score-188 {background-color: #FFFF0c;}\n",
       ".cython.score-189 {background-color: #FFFF0c;}\n",
       ".cython.score-190 {background-color: #FFFF0c;}\n",
       ".cython.score-191 {background-color: #FFFF0c;}\n",
       ".cython.score-192 {background-color: #FFFF0c;}\n",
       ".cython.score-193 {background-color: #FFFF0c;}\n",
       ".cython.score-194 {background-color: #FFFF0c;}\n",
       ".cython.score-195 {background-color: #FFFF0c;}\n",
       ".cython.score-196 {background-color: #FFFF0c;}\n",
       ".cython.score-197 {background-color: #FFFF0c;}\n",
       ".cython.score-198 {background-color: #FFFF0c;}\n",
       ".cython.score-199 {background-color: #FFFF0c;}\n",
       ".cython.score-200 {background-color: #FFFF0c;}\n",
       ".cython.score-201 {background-color: #FFFF0c;}\n",
       ".cython.score-202 {background-color: #FFFF0c;}\n",
       ".cython.score-203 {background-color: #FFFF0b;}\n",
       ".cython.score-204 {background-color: #FFFF0b;}\n",
       ".cython.score-205 {background-color: #FFFF0b;}\n",
       ".cython.score-206 {background-color: #FFFF0b;}\n",
       ".cython.score-207 {background-color: #FFFF0b;}\n",
       ".cython.score-208 {background-color: #FFFF0b;}\n",
       ".cython.score-209 {background-color: #FFFF0b;}\n",
       ".cython.score-210 {background-color: #FFFF0b;}\n",
       ".cython.score-211 {background-color: #FFFF0b;}\n",
       ".cython.score-212 {background-color: #FFFF0b;}\n",
       ".cython.score-213 {background-color: #FFFF0b;}\n",
       ".cython.score-214 {background-color: #FFFF0b;}\n",
       ".cython.score-215 {background-color: #FFFF0b;}\n",
       ".cython.score-216 {background-color: #FFFF0b;}\n",
       ".cython.score-217 {background-color: #FFFF0b;}\n",
       ".cython.score-218 {background-color: #FFFF0b;}\n",
       ".cython.score-219 {background-color: #FFFF0b;}\n",
       ".cython.score-220 {background-color: #FFFF0b;}\n",
       ".cython.score-221 {background-color: #FFFF0b;}\n",
       ".cython.score-222 {background-color: #FFFF0a;}\n",
       ".cython.score-223 {background-color: #FFFF0a;}\n",
       ".cython.score-224 {background-color: #FFFF0a;}\n",
       ".cython.score-225 {background-color: #FFFF0a;}\n",
       ".cython.score-226 {background-color: #FFFF0a;}\n",
       ".cython.score-227 {background-color: #FFFF0a;}\n",
       ".cython.score-228 {background-color: #FFFF0a;}\n",
       ".cython.score-229 {background-color: #FFFF0a;}\n",
       ".cython.score-230 {background-color: #FFFF0a;}\n",
       ".cython.score-231 {background-color: #FFFF0a;}\n",
       ".cython.score-232 {background-color: #FFFF0a;}\n",
       ".cython.score-233 {background-color: #FFFF0a;}\n",
       ".cython.score-234 {background-color: #FFFF0a;}\n",
       ".cython.score-235 {background-color: #FFFF0a;}\n",
       ".cython.score-236 {background-color: #FFFF0a;}\n",
       ".cython.score-237 {background-color: #FFFF0a;}\n",
       ".cython.score-238 {background-color: #FFFF0a;}\n",
       ".cython.score-239 {background-color: #FFFF0a;}\n",
       ".cython.score-240 {background-color: #FFFF0a;}\n",
       ".cython.score-241 {background-color: #FFFF0a;}\n",
       ".cython.score-242 {background-color: #FFFF0a;}\n",
       ".cython.score-243 {background-color: #FFFF0a;}\n",
       ".cython.score-244 {background-color: #FFFF0a;}\n",
       ".cython.score-245 {background-color: #FFFF0a;}\n",
       ".cython.score-246 {background-color: #FFFF09;}\n",
       ".cython.score-247 {background-color: #FFFF09;}\n",
       ".cython.score-248 {background-color: #FFFF09;}\n",
       ".cython.score-249 {background-color: #FFFF09;}\n",
       ".cython.score-250 {background-color: #FFFF09;}\n",
       ".cython.score-251 {background-color: #FFFF09;}\n",
       ".cython.score-252 {background-color: #FFFF09;}\n",
       ".cython.score-253 {background-color: #FFFF09;}\n",
       ".cython.score-254 {background-color: #FFFF09;}\n",
       "pre { line-height: 125%; }\n",
       "td.linenos .normal { color: inherit; background-color: transparent; padding-left: 5px; padding-right: 5px; }\n",
       "span.linenos { color: inherit; background-color: transparent; padding-left: 5px; padding-right: 5px; }\n",
       "td.linenos .special { color: #000000; background-color: #ffffc0; padding-left: 5px; padding-right: 5px; }\n",
       "span.linenos.special { color: #000000; background-color: #ffffc0; padding-left: 5px; padding-right: 5px; }\n",
       ".cython .hll { background-color: #ffffcc }\n",
       ".cython { background: #f8f8f8; }\n",
       ".cython .c { color: #3D7B7B; font-style: italic } /* Comment */\n",
       ".cython .err { border: 1px solid #FF0000 } /* Error */\n",
       ".cython .k { color: #008000; font-weight: bold } /* Keyword */\n",
       ".cython .o { color: #666666 } /* Operator */\n",
       ".cython .ch { color: #3D7B7B; font-style: italic } /* Comment.Hashbang */\n",
       ".cython .cm { color: #3D7B7B; font-style: italic } /* Comment.Multiline */\n",
       ".cython .cp { color: #9C6500 } /* Comment.Preproc */\n",
       ".cython .cpf { color: #3D7B7B; font-style: italic } /* Comment.PreprocFile */\n",
       ".cython .c1 { color: #3D7B7B; font-style: italic } /* Comment.Single */\n",
       ".cython .cs { color: #3D7B7B; font-style: italic } /* Comment.Special */\n",
       ".cython .gd { color: #A00000 } /* Generic.Deleted */\n",
       ".cython .ge { font-style: italic } /* Generic.Emph */\n",
       ".cython .gr { color: #E40000 } /* Generic.Error */\n",
       ".cython .gh { color: #000080; font-weight: bold } /* Generic.Heading */\n",
       ".cython .gi { color: #008400 } /* Generic.Inserted */\n",
       ".cython .go { color: #717171 } /* Generic.Output */\n",
       ".cython .gp { color: #000080; font-weight: bold } /* Generic.Prompt */\n",
       ".cython .gs { font-weight: bold } /* Generic.Strong */\n",
       ".cython .gu { color: #800080; font-weight: bold } /* Generic.Subheading */\n",
       ".cython .gt { color: #0044DD } /* Generic.Traceback */\n",
       ".cython .kc { color: #008000; font-weight: bold } /* Keyword.Constant */\n",
       ".cython .kd { color: #008000; font-weight: bold } /* Keyword.Declaration */\n",
       ".cython .kn { color: #008000; font-weight: bold } /* Keyword.Namespace */\n",
       ".cython .kp { color: #008000 } /* Keyword.Pseudo */\n",
       ".cython .kr { color: #008000; font-weight: bold } /* Keyword.Reserved */\n",
       ".cython .kt { color: #B00040 } /* Keyword.Type */\n",
       ".cython .m { color: #666666 } /* Literal.Number */\n",
       ".cython .s { color: #BA2121 } /* Literal.String */\n",
       ".cython .na { color: #687822 } /* Name.Attribute */\n",
       ".cython .nb { color: #008000 } /* Name.Builtin */\n",
       ".cython .nc { color: #0000FF; font-weight: bold } /* Name.Class */\n",
       ".cython .no { color: #880000 } /* Name.Constant */\n",
       ".cython .nd { color: #AA22FF } /* Name.Decorator */\n",
       ".cython .ni { color: #717171; font-weight: bold } /* Name.Entity */\n",
       ".cython .ne { color: #CB3F38; font-weight: bold } /* Name.Exception */\n",
       ".cython .nf { color: #0000FF } /* Name.Function */\n",
       ".cython .nl { color: #767600 } /* Name.Label */\n",
       ".cython .nn { color: #0000FF; font-weight: bold } /* Name.Namespace */\n",
       ".cython .nt { color: #008000; font-weight: bold } /* Name.Tag */\n",
       ".cython .nv { color: #19177C } /* Name.Variable */\n",
       ".cython .ow { color: #AA22FF; font-weight: bold } /* Operator.Word */\n",
       ".cython .w { color: #bbbbbb } /* Text.Whitespace */\n",
       ".cython .mb { color: #666666 } /* Literal.Number.Bin */\n",
       ".cython .mf { color: #666666 } /* Literal.Number.Float */\n",
       ".cython .mh { color: #666666 } /* Literal.Number.Hex */\n",
       ".cython .mi { color: #666666 } /* Literal.Number.Integer */\n",
       ".cython .mo { color: #666666 } /* Literal.Number.Oct */\n",
       ".cython .sa { color: #BA2121 } /* Literal.String.Affix */\n",
       ".cython .sb { color: #BA2121 } /* Literal.String.Backtick */\n",
       ".cython .sc { color: #BA2121 } /* Literal.String.Char */\n",
       ".cython .dl { color: #BA2121 } /* Literal.String.Delimiter */\n",
       ".cython .sd { color: #BA2121; font-style: italic } /* Literal.String.Doc */\n",
       ".cython .s2 { color: #BA2121 } /* Literal.String.Double */\n",
       ".cython .se { color: #AA5D1F; font-weight: bold } /* Literal.String.Escape */\n",
       ".cython .sh { color: #BA2121 } /* Literal.String.Heredoc */\n",
       ".cython .si { color: #A45A77; font-weight: bold } /* Literal.String.Interpol */\n",
       ".cython .sx { color: #008000 } /* Literal.String.Other */\n",
       ".cython .sr { color: #A45A77 } /* Literal.String.Regex */\n",
       ".cython .s1 { color: #BA2121 } /* Literal.String.Single */\n",
       ".cython .ss { color: #19177C } /* Literal.String.Symbol */\n",
       ".cython .bp { color: #008000 } /* Name.Builtin.Pseudo */\n",
       ".cython .fm { color: #0000FF } /* Name.Function.Magic */\n",
       ".cython .vc { color: #19177C } /* Name.Variable.Class */\n",
       ".cython .vg { color: #19177C } /* Name.Variable.Global */\n",
       ".cython .vi { color: #19177C } /* Name.Variable.Instance */\n",
       ".cython .vm { color: #19177C } /* Name.Variable.Magic */\n",
       ".cython .il { color: #666666 } /* Literal.Number.Integer.Long */\n",
       "    </style>\n",
       "</head>\n",
       "<body class=\"cython\">\n",
       "<p><span style=\"border-bottom: solid 1px grey;\">Generated by Cython 0.29.26</span></p>\n",
       "<p>\n",
       "    <span style=\"background-color: #FFFF00\">Yellow lines</span> hint at Python interaction.<br />\n",
       "    Click on a line that starts with a \"<code>+</code>\" to see the C code that Cython generated for it.\n",
       "</p>\n",
       "<div class=\"cython\"><pre class=\"cython line score-0\">&#xA0;<span class=\"\">01</span>: </pre>\n",
       "<pre class=\"cython line score-8\" onclick=\"(function(s){s.display=s.display==='block'?'none':'block'})(this.nextElementSibling.style)\">+<span class=\"\">02</span>: <span class=\"k\">import</span> <span class=\"nn\">cython</span></pre>\n",
       "<pre class='cython code score-8 '>  __pyx_t_1 = <span class='pyx_c_api'>__Pyx_PyDict_NewPresized</span>(0);<span class='error_goto'> if (unlikely(!__pyx_t_1)) __PYX_ERR(0, 2, __pyx_L1_error)</span>\n",
       "  <span class='refnanny'>__Pyx_GOTREF</span>(__pyx_t_1);\n",
       "  if (<span class='py_c_api'>PyDict_SetItem</span>(__pyx_d, __pyx_n_s_test, __pyx_t_1) &lt; 0) <span class='error_goto'>__PYX_ERR(0, 2, __pyx_L1_error)</span>\n",
       "  <span class='pyx_macro_api'>__Pyx_DECREF</span>(__pyx_t_1); __pyx_t_1 = 0;\n",
       "</pre><pre class=\"cython line score-0\">&#xA0;<span class=\"\">03</span>: </pre>\n",
       "<pre class=\"cython line score-0\">&#xA0;<span class=\"\">04</span>: <span class=\"nd\">@cython</span><span class=\"o\">.</span><span class=\"n\">wraparound</span><span class=\"p\">(</span><span class=\"bp\">False</span><span class=\"p\">)</span></pre>\n",
       "<pre class=\"cython line score-0\">&#xA0;<span class=\"\">05</span>: <span class=\"nd\">@cython</span><span class=\"o\">.</span><span class=\"n\">boundscheck</span><span class=\"p\">(</span><span class=\"bp\">False</span><span class=\"p\">)</span></pre>\n",
       "<pre class=\"cython line score-21\" onclick=\"(function(s){s.display=s.display==='block'?'none':'block'})(this.nextElementSibling.style)\">+<span class=\"\">06</span>: <span class=\"k\">def</span> <span class=\"nf\">mysum</span><span class=\"p\">(</span><span class=\"n\">double</span> <span class=\"p\">[::</span><span class=\"mf\">1</span><span class=\"p\">]</span> <span class=\"n\">arr</span><span class=\"p\">):</span></pre>\n",
       "<pre class='cython code score-21 '>/* Python wrapper */\n",
       "static PyObject *__pyx_pw_46_cython_magic_a312d200cbc7da0aceb9cdb3d39e668f_1mysum(PyObject *__pyx_self, PyObject *__pyx_arg_arr); /*proto*/\n",
       "static PyMethodDef __pyx_mdef_46_cython_magic_a312d200cbc7da0aceb9cdb3d39e668f_1mysum = {\"mysum\", (PyCFunction)__pyx_pw_46_cython_magic_a312d200cbc7da0aceb9cdb3d39e668f_1mysum, METH_O, 0};\n",
       "static PyObject *__pyx_pw_46_cython_magic_a312d200cbc7da0aceb9cdb3d39e668f_1mysum(PyObject *__pyx_self, PyObject *__pyx_arg_arr) {\n",
       "  __Pyx_memviewslice __pyx_v_arr = { 0, 0, { 0 }, { 0 }, { 0 } };\n",
       "  PyObject *__pyx_r = 0;\n",
       "  <span class='refnanny'>__Pyx_RefNannyDeclarations</span>\n",
       "  <span class='refnanny'>__Pyx_RefNannySetupContext</span>(\"mysum (wrapper)\", 0);\n",
       "  assert(__pyx_arg_arr); {\n",
       "    __pyx_v_arr = <span class='pyx_c_api'>__Pyx_PyObject_to_MemoryviewSlice_dc_double</span>(__pyx_arg_arr, PyBUF_WRITABLE);<span class='error_goto'> if (unlikely(!__pyx_v_arr.memview)) __PYX_ERR(0, 6, __pyx_L3_error)</span>\n",
       "  }\n",
       "  goto __pyx_L4_argument_unpacking_done;\n",
       "  __pyx_L3_error:;\n",
       "  <span class='pyx_c_api'>__Pyx_AddTraceback</span>(\"_cython_magic_a312d200cbc7da0aceb9cdb3d39e668f.mysum\", __pyx_clineno, __pyx_lineno, __pyx_filename);\n",
       "  <span class='refnanny'>__Pyx_RefNannyFinishContext</span>();\n",
       "  return NULL;\n",
       "  __pyx_L4_argument_unpacking_done:;\n",
       "  __pyx_r = __pyx_pf_46_cython_magic_a312d200cbc7da0aceb9cdb3d39e668f_mysum(__pyx_self, __pyx_v_arr);\n",
       "  int __pyx_lineno = 0;\n",
       "  const char *__pyx_filename = NULL;\n",
       "  int __pyx_clineno = 0;\n",
       "\n",
       "  /* function exit code */\n",
       "  <span class='refnanny'>__Pyx_RefNannyFinishContext</span>();\n",
       "  return __pyx_r;\n",
       "}\n",
       "\n",
       "static PyObject *__pyx_pf_46_cython_magic_a312d200cbc7da0aceb9cdb3d39e668f_mysum(CYTHON_UNUSED PyObject *__pyx_self, __Pyx_memviewslice __pyx_v_arr) {\n",
       "  size_t __pyx_v_N;\n",
       "  double __pyx_v_sum;\n",
       "  size_t __pyx_v_i;\n",
       "  PyObject *__pyx_r = NULL;\n",
       "  <span class='refnanny'>__Pyx_RefNannyDeclarations</span>\n",
       "  <span class='refnanny'>__Pyx_RefNannySetupContext</span>(\"mysum\", 0);\n",
       "/* … */\n",
       "  /* function exit code */\n",
       "  __pyx_L1_error:;\n",
       "  <span class='pyx_macro_api'>__Pyx_XDECREF</span>(__pyx_t_1);\n",
       "  <span class='pyx_macro_api'>__Pyx_XDECREF</span>(__pyx_t_2);\n",
       "  <span class='pyx_c_api'>__Pyx_AddTraceback</span>(\"_cython_magic_a312d200cbc7da0aceb9cdb3d39e668f.mysum\", __pyx_clineno, __pyx_lineno, __pyx_filename);\n",
       "  __pyx_r = NULL;\n",
       "  __pyx_L0:;\n",
       "  __PYX_XDEC_MEMVIEW(&amp;__pyx_v_arr, 1);\n",
       "  <span class='refnanny'>__Pyx_XGIVEREF</span>(__pyx_r);\n",
       "  <span class='refnanny'>__Pyx_RefNannyFinishContext</span>();\n",
       "  return __pyx_r;\n",
       "}\n",
       "/* … */\n",
       "  __pyx_tuple__19 = <span class='py_c_api'>PyTuple_Pack</span>(5, __pyx_n_s_arr, __pyx_n_s_arr, __pyx_n_s_N, __pyx_n_s_sum, __pyx_n_s_i);<span class='error_goto'> if (unlikely(!__pyx_tuple__19)) __PYX_ERR(0, 6, __pyx_L1_error)</span>\n",
       "  <span class='refnanny'>__Pyx_GOTREF</span>(__pyx_tuple__19);\n",
       "  <span class='refnanny'>__Pyx_GIVEREF</span>(__pyx_tuple__19);\n",
       "/* … */\n",
       "  __pyx_t_1 = PyCFunction_NewEx(&amp;__pyx_mdef_46_cython_magic_a312d200cbc7da0aceb9cdb3d39e668f_1mysum, NULL, __pyx_n_s_cython_magic_a312d200cbc7da0ace);<span class='error_goto'> if (unlikely(!__pyx_t_1)) __PYX_ERR(0, 6, __pyx_L1_error)</span>\n",
       "  <span class='refnanny'>__Pyx_GOTREF</span>(__pyx_t_1);\n",
       "  if (<span class='py_c_api'>PyDict_SetItem</span>(__pyx_d, __pyx_n_s_mysum, __pyx_t_1) &lt; 0) <span class='error_goto'>__PYX_ERR(0, 6, __pyx_L1_error)</span>\n",
       "  <span class='pyx_macro_api'>__Pyx_DECREF</span>(__pyx_t_1); __pyx_t_1 = 0;\n",
       "  __pyx_codeobj__20 = (PyObject*)<span class='pyx_c_api'>__Pyx_PyCode_New</span>(1, 0, 5, 0, CO_OPTIMIZED|CO_NEWLOCALS, __pyx_empty_bytes, __pyx_empty_tuple, __pyx_empty_tuple, __pyx_tuple__19, __pyx_empty_tuple, __pyx_empty_tuple, __pyx_kp_s_home_zbyszek_cache_ipython_cyth, __pyx_n_s_mysum, 6, __pyx_empty_bytes);<span class='error_goto'> if (unlikely(!__pyx_codeobj__20)) __PYX_ERR(0, 6, __pyx_L1_error)</span>\n",
       "</pre><pre class=\"cython line score-11\" onclick=\"(function(s){s.display=s.display==='block'?'none':'block'})(this.nextElementSibling.style)\">+<span class=\"\">07</span>:     <span class=\"k\">cdef</span> <span class=\"kt\">size_t</span> <span class=\"nf\">N</span> <span class=\"o\">=</span> <span class=\"n\">arr</span><span class=\"o\">.</span><span class=\"n\">size</span></pre>\n",
       "<pre class='cython code score-11 '>  __pyx_t_1 = __pyx_memoryview_fromslice(__pyx_v_arr, 1, (PyObject *(*)(char *)) __pyx_memview_get_double, (int (*)(char *, PyObject *)) __pyx_memview_set_double, 0);;<span class='error_goto'> if (unlikely(!__pyx_t_1)) __PYX_ERR(0, 7, __pyx_L1_error)</span>\n",
       "  <span class='refnanny'>__Pyx_GOTREF</span>(__pyx_t_1);\n",
       "  __pyx_t_2 = <span class='pyx_c_api'>__Pyx_PyObject_GetAttrStr</span>(__pyx_t_1, __pyx_n_s_size);<span class='error_goto'> if (unlikely(!__pyx_t_2)) __PYX_ERR(0, 7, __pyx_L1_error)</span>\n",
       "  <span class='refnanny'>__Pyx_GOTREF</span>(__pyx_t_2);\n",
       "  <span class='pyx_macro_api'>__Pyx_DECREF</span>(__pyx_t_1); __pyx_t_1 = 0;\n",
       "  __pyx_t_3 = <span class='pyx_c_api'>__Pyx_PyInt_As_size_t</span>(__pyx_t_2); if (unlikely((__pyx_t_3 == (size_t)-1) &amp;&amp; <span class='py_c_api'>PyErr_Occurred</span>())) <span class='error_goto'>__PYX_ERR(0, 7, __pyx_L1_error)</span>\n",
       "  <span class='pyx_macro_api'>__Pyx_DECREF</span>(__pyx_t_2); __pyx_t_2 = 0;\n",
       "  __pyx_v_N = __pyx_t_3;\n",
       "</pre><pre class=\"cython line score-0\" onclick=\"(function(s){s.display=s.display==='block'?'none':'block'})(this.nextElementSibling.style)\">+<span class=\"\">08</span>:     <span class=\"k\">cdef</span> <span class=\"kt\">double</span> <span class=\"nf\">sum</span> <span class=\"o\">=</span> <span class=\"mf\">0</span></pre>\n",
       "<pre class='cython code score-0 '>  __pyx_v_sum = 0.0;\n",
       "</pre><pre class=\"cython line score-0\" onclick=\"(function(s){s.display=s.display==='block'?'none':'block'})(this.nextElementSibling.style)\">+<span class=\"\">09</span>:     <span class=\"k\">for</span> <span class=\"n\">i</span> <span class=\"ow\">in</span> <span class=\"nb\">range</span><span class=\"p\">(</span><span class=\"mf\">1</span><span class=\"p\">,</span> <span class=\"n\">N</span><span class=\"o\">-</span><span class=\"mf\">1</span><span class=\"p\">):</span></pre>\n",
       "<pre class='cython code score-0 '>  __pyx_t_3 = (__pyx_v_N - 1);\n",
       "  __pyx_t_4 = __pyx_t_3;\n",
       "  for (__pyx_t_5 = 1; __pyx_t_5 &lt; __pyx_t_4; __pyx_t_5+=1) {\n",
       "    __pyx_v_i = __pyx_t_5;\n",
       "</pre><pre class=\"cython line score-0\" onclick=\"(function(s){s.display=s.display==='block'?'none':'block'})(this.nextElementSibling.style)\">+<span class=\"\">10</span>:         <span class=\"nb\">sum</span> <span class=\"o\">+=</span> <span class=\"n\">arr</span><span class=\"p\">[</span><span class=\"n\">i</span><span class=\"p\">]</span></pre>\n",
       "<pre class='cython code score-0 '>    __pyx_t_6 = __pyx_v_i;\n",
       "    __pyx_v_sum = (__pyx_v_sum + (*((double *) ( /* dim=0 */ ((char *) (((double *) __pyx_v_arr.data) + __pyx_t_6)) ))));\n",
       "  }\n",
       "</pre><pre class=\"cython line score-0\" onclick=\"(function(s){s.display=s.display==='block'?'none':'block'})(this.nextElementSibling.style)\">+<span class=\"\">11</span>:     <span class=\"nb\">sum</span> <span class=\"o\">+=</span> <span class=\"n\">arr</span><span class=\"p\">[</span><span class=\"mf\">0</span><span class=\"p\">]</span></pre>\n",
       "<pre class='cython code score-0 '>  __pyx_t_7 = 0;\n",
       "  __pyx_v_sum = (__pyx_v_sum + (*((double *) ( /* dim=0 */ ((char *) (((double *) __pyx_v_arr.data) + __pyx_t_7)) ))));\n",
       "</pre><pre class=\"cython line score-0\" onclick=\"(function(s){s.display=s.display==='block'?'none':'block'})(this.nextElementSibling.style)\">+<span class=\"\">12</span>:     <span class=\"nb\">sum</span> <span class=\"o\">+=</span> <span class=\"n\">arr</span><span class=\"p\">[</span><span class=\"n\">N</span><span class=\"o\">-</span><span class=\"mf\">1</span><span class=\"p\">]</span></pre>\n",
       "<pre class='cython code score-0 '>  __pyx_t_3 = (__pyx_v_N - 1);\n",
       "  __pyx_v_sum = (__pyx_v_sum + (*((double *) ( /* dim=0 */ ((char *) (((double *) __pyx_v_arr.data) + __pyx_t_3)) ))));\n",
       "</pre><pre class=\"cython line score-0\">&#xA0;<span class=\"\">13</span>: </pre>\n",
       "<pre class=\"cython line score-6\" onclick=\"(function(s){s.display=s.display==='block'?'none':'block'})(this.nextElementSibling.style)\">+<span class=\"\">14</span>:     <span class=\"k\">return</span> <span class=\"nb\">sum</span></pre>\n",
       "<pre class='cython code score-6 '>  <span class='pyx_macro_api'>__Pyx_XDECREF</span>(__pyx_r);\n",
       "  __pyx_t_2 = <span class='py_c_api'>PyFloat_FromDouble</span>(__pyx_v_sum);<span class='error_goto'> if (unlikely(!__pyx_t_2)) __PYX_ERR(0, 14, __pyx_L1_error)</span>\n",
       "  <span class='refnanny'>__Pyx_GOTREF</span>(__pyx_t_2);\n",
       "  __pyx_r = __pyx_t_2;\n",
       "  __pyx_t_2 = 0;\n",
       "  goto __pyx_L0;\n",
       "</pre></div></body></html>"
      ],
      "text/plain": [
       "<IPython.core.display.HTML object>"
      ]
     },
     "execution_count": 62,
     "metadata": {},
     "output_type": "execute_result"
    }
   ],
   "source": [
    "%%cython -a\n",
    "\n",
    "import cython\n",
    "\n",
    "@cython.wraparound(False)\n",
    "@cython.boundscheck(False)\n",
    "def mysum(double [::1] arr):\n",
    "    cdef size_t N = arr.size\n",
    "    cdef double sum = 0\n",
    "    for i in range(1, N-1):\n",
    "        sum += arr[i]\n",
    "    sum += arr[0]\n",
    "    sum += arr[N-1]\n",
    "        \n",
    "    return sum"
   ]
  },
  {
   "cell_type": "code",
   "execution_count": null,
   "id": "6fb71fe8",
   "metadata": {},
   "outputs": [],
   "source": []
  },
  {
   "cell_type": "markdown",
   "id": "d92bbb6e",
   "metadata": {},
   "source": [
    "Let's write a \"mean filter\"\n"
   ]
  },
  {
   "cell_type": "markdown",
   "id": "dc9b7e92",
   "metadata": {},
   "source": [
    "$$ \\{ x_0, x_1, ...  , x_{n-2}, x_n \\} \\longrightarrow \\{ \\frac{x_0 + x_1}{2}, \\frac{x_0 + x_1 + x_2}{3}, \\frac{x_1 + x_2 + x_3}{3}, ... , \\frac{x_{i-1} + x_i + x_{i+1}}{3}, ... , \\frac{x_{n-3} + x_{n-2} + x_{n-1}}{3}, \\frac{x_{n-2} + x_{n-1}}{2} \\} $$"
   ]
  },
  {
   "cell_type": "code",
   "execution_count": 63,
   "id": "e35bf588",
   "metadata": {},
   "outputs": [],
   "source": [
    "import numpy as np\n",
    "\n",
    "def mean3filter(arr):\n",
    "    arr_out = np.empty_like(arr)\n",
    "    \n",
    "    arr_out[0] =  (arr[0] + arr[1]) / 2\n",
    "    for i in range(1, arr.shape[0] - 1):\n",
    "        arr_out[i] = arr[i-1:i+2].sum() / 3\n",
    "    arr_out[-1] = (arr[-2] + arr[-1]) / 2\n",
    "\n",
    "    return arr_out"
   ]
  },
  {
   "cell_type": "markdown",
   "id": "1b895d51",
   "metadata": {},
   "source": [
    "# Wrapping external code in Cython"
   ]
  },
  {
   "cell_type": "code",
   "execution_count": 64,
   "id": "e3e77d75",
   "metadata": {},
   "outputs": [
    {
     "data": {
      "text/plain": [
       "<function _cython_magic_3a32b0ec1be700f82bc5f623ce70867b.f3>"
      ]
     },
     "execution_count": 64,
     "metadata": {},
     "output_type": "execute_result"
    }
   ],
   "source": [
    "f3"
   ]
  },
  {
   "cell_type": "markdown",
   "id": "04423c89",
   "metadata": {},
   "source": [
    "# Numba"
   ]
  },
  {
   "cell_type": "code",
   "execution_count": 76,
   "id": "96f967e9",
   "metadata": {},
   "outputs": [],
   "source": [
    "import numba\n",
    "\n",
    "@numba.jit\n",
    "def f(x):\n",
    "    return x ** 4 - 3 * x\n",
    "\n",
    "@numba.jit\n",
    "def integrate_f(func, a, b, n):\n",
    "    s = 0\n",
    "    dx = (b - a) / n\n",
    "    \n",
    "    s += func(a) * dx/2\n",
    "    for i in range(1, n):\n",
    "        s += func(a + n * dx) * dx\n",
    "    s += func(b) * dx/2\n",
    "    return s"
   ]
  },
  {
   "cell_type": "code",
   "execution_count": 72,
   "id": "9fb08f48",
   "metadata": {},
   "outputs": [
    {
     "name": "stdout",
     "output_type": "stream",
     "text": [
      "1.37 ms ± 16.7 µs per loop (mean ± std. dev. of 7 runs, 1,000 loops each)\n"
     ]
    }
   ],
   "source": [
    "%timeit integrate_f(f, -10, +10, 1_000_000)"
   ]
  },
  {
   "cell_type": "code",
   "execution_count": 77,
   "id": "fb6f1dcb",
   "metadata": {},
   "outputs": [
    {
     "data": {
      "text/plain": [
       "CPUDispatcher(<function f at 0x7f4620c55750>)"
      ]
     },
     "execution_count": 77,
     "metadata": {},
     "output_type": "execute_result"
    }
   ],
   "source": [
    "f"
   ]
  },
  {
   "cell_type": "code",
   "execution_count": 83,
   "id": "d703b941",
   "metadata": {},
   "outputs": [
    {
     "data": {
      "text/plain": [
       "[(int64,) -> int64, (float64,) -> float64]"
      ]
     },
     "execution_count": 83,
     "metadata": {},
     "output_type": "execute_result"
    }
   ],
   "source": [
    "f.nopython_signatures"
   ]
  },
  {
   "cell_type": "code",
   "execution_count": 85,
   "id": "5a420b59",
   "metadata": {},
   "outputs": [
    {
     "data": {
      "text/plain": [
       "array([[1., 0., 0.],\n",
       "       [0., 1., 0.],\n",
       "       [0., 0., 1.]])"
      ]
     },
     "execution_count": 85,
     "metadata": {},
     "output_type": "execute_result"
    }
   ],
   "source": [
    "x = np.eye(3)\n",
    "x"
   ]
  },
  {
   "cell_type": "code",
   "execution_count": 86,
   "id": "339469f0",
   "metadata": {},
   "outputs": [
    {
     "data": {
      "text/plain": [
       "array([[-2.,  0.,  0.],\n",
       "       [ 0., -2.,  0.],\n",
       "       [ 0.,  0., -2.]])"
      ]
     },
     "execution_count": 86,
     "metadata": {},
     "output_type": "execute_result"
    }
   ],
   "source": [
    "f(x)"
   ]
  },
  {
   "cell_type": "code",
   "execution_count": 87,
   "id": "13fc9c89",
   "metadata": {},
   "outputs": [
    {
     "data": {
      "text/plain": [
       "[(int64,) -> int64,\n",
       " (float64,) -> float64,\n",
       " (array(float64, 2d, C),) -> array(float64, 2d, C)]"
      ]
     },
     "execution_count": 87,
     "metadata": {},
     "output_type": "execute_result"
    }
   ],
   "source": [
    "f.nopython_signatures"
   ]
  },
  {
   "cell_type": "code",
   "execution_count": null,
   "id": "4d58350a",
   "metadata": {},
   "outputs": [],
   "source": []
  }
 ],
 "metadata": {
  "celltoolbar": "Slideshow",
  "kernelspec": {
   "display_name": "Python 3 (ipykernel)",
   "language": "python",
   "name": "python3"
  },
  "language_info": {
   "codemirror_mode": {
    "name": "ipython",
    "version": 3
   },
   "file_extension": ".py",
   "mimetype": "text/x-python",
   "name": "python",
   "nbconvert_exporter": "python",
   "pygments_lexer": "ipython3",
   "version": "3.10.6"
  }
 },
 "nbformat": 4,
 "nbformat_minor": 5
}
