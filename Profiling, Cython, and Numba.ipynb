{
 "cells": [
  {
   "cell_type": "markdown",
   "id": "1d8331d3",
   "metadata": {
    "slideshow": {
     "slide_type": "slide"
    }
   },
   "source": [
    "# Profiling, Cython, and Numba 🚀\n",
    "### Zbyszek & Jakob\n",
    "### ASPP 2022, Bilbao, Spain"
   ]
  },
  {
   "cell_type": "markdown",
   "id": "6e140a02",
   "metadata": {
    "slideshow": {
     "slide_type": "slide"
    }
   },
   "source": [
    "## Outline\n",
    "\n",
    "* Introduction\n",
    "* Profiling\n",
    "* Speed up Python code using Cython\n",
    " * Basic principles\n",
    " * Interacting with NumPy arrays\n",
    " * Release the GIL and parallelize easily\n",
    " * Wrap C/C++ code\n",
    "* Using Numba to speed up Python code"
   ]
  },
  {
   "cell_type": "markdown",
   "id": "64f5447c",
   "metadata": {
    "slideshow": {
     "slide_type": "slide"
    }
   },
   "source": [
    "## Introduction\n",
    "\n",
    "* Sometimes, it seems like the execution speed of some script is *the* thing which keeps you from your next scientific breakthrough\n",
    "* Both Cython and Numba are tools to make your code faster -> \"optimization\"\n",
    "* So when should you optimize your code?"
   ]
  },
  {
   "cell_type": "markdown",
   "id": "af6284f4",
   "metadata": {
    "slideshow": {
     "slide_type": "slide"
    }
   },
   "source": [
    "## The three rules of optimization\n",
    "(adapted from Sebastian Witowski, EuroPython 2016)"
   ]
  },
  {
   "cell_type": "markdown",
   "id": "c68002fb",
   "metadata": {
    "slideshow": {
     "slide_type": "fragment"
    }
   },
   "source": [
    "#### 1. Don't.\n",
    " * Optimization comes with costs.\n",
    " * Likely you don't need it.\n",
    " * Invest in better hardware."
   ]
  },
  {
   "cell_type": "markdown",
   "id": "b9c618af",
   "metadata": {
    "slideshow": {
     "slide_type": "fragment"
    }
   },
   "source": [
    "#### 2. Don't yet.\n",
    " * Is your code finished?\n",
    " * Did you write tests?\n",
    " * Are you sure it's worth the investment?"
   ]
  },
  {
   "cell_type": "markdown",
   "id": "bc5836da",
   "metadata": {
    "slideshow": {
     "slide_type": "fragment"
    }
   },
   "source": [
    "#### 3. Profile\n",
    "* Don't guess which part of your code you should optimize!\n",
    "* Measure. Measure. Measure."
   ]
  },
  {
   "cell_type": "code",
   "execution_count": 38,
   "id": "183cdbbd",
   "metadata": {
    "slideshow": {
     "slide_type": "slide"
    }
   },
   "outputs": [],
   "source": [
    "def integrate_f(f, a, b, n):\n",
    "    dx = (b - a) / n\n",
    "    dx2 = dx / 2\n",
    "    s = f(a) * dx2\n",
    "    for i in range(1, n):\n",
    "        s += f(a + i * dx) * dx\n",
    "    s += f(b) * dx2\n",
    "    return s"
   ]
  },
  {
   "cell_type": "code",
   "execution_count": 64,
   "id": "c32a1090",
   "metadata": {},
   "outputs": [],
   "source": [
    "f = lambda x: x ** 4 - 3 * x"
   ]
  },
  {
   "cell_type": "code",
   "execution_count": 65,
   "id": "ebddbdc4",
   "metadata": {},
   "outputs": [],
   "source": [
    "def integrate_f0(f, a, b, n):\n",
    "    s = 0.0\n",
    "    for i in range(n):\n",
    "        dx = (b - a) / n\n",
    "        x = a + (i + 0.5) * dx\n",
    "        s += f(x) * dx\n",
    "    return s"
   ]
  },
  {
   "cell_type": "code",
   "execution_count": 66,
   "id": "29d0b46a",
   "metadata": {},
   "outputs": [],
   "source": [
    "def integrate_f1(f, a, b, n):\n",
    "    dx = (b - a) / n\n",
    "    s = 0.0\n",
    "    for i in range(n):\n",
    "        x = a + (i + 0.5) * dx\n",
    "        s += f(x) * dx\n",
    "    return s"
   ]
  },
  {
   "cell_type": "code",
   "execution_count": 67,
   "id": "39228884",
   "metadata": {},
   "outputs": [],
   "source": [
    "def integrate_f2(f, a, b, n):\n",
    "    dx = (b - a) / n\n",
    "    x = a + 0.5 * dx\n",
    "    s = 0.0\n",
    "    for i in range(n):\n",
    "        s += f(x) * dx\n",
    "        x += dx\n",
    "    return s"
   ]
  },
  {
   "cell_type": "code",
   "execution_count": 68,
   "id": "768b4788",
   "metadata": {},
   "outputs": [],
   "source": [
    "def integrate_f3(f, a, b, n):\n",
    "    dx = (b - a) / n\n",
    "    x = a + 0.5 * dx\n",
    "    s = 0.0\n",
    "    for i in range(n):\n",
    "        s += f(x)\n",
    "        x += dx\n",
    "    return s * dx"
   ]
  },
  {
   "cell_type": "code",
   "execution_count": 76,
   "id": "d3908a64",
   "metadata": {},
   "outputs": [
    {
     "name": "stdout",
     "output_type": "stream",
     "text": [
      "-1.300000166666638\n",
      "-1.300000166666638\n",
      "-1.3000001666666385\n",
      "-1.3000001666666394\n"
     ]
    }
   ],
   "source": [
    "print(integrate_f0(f, 0, 1, 1000))\n",
    "print(integrate_f1(f, 0, 1, 1000))\n",
    "print(integrate_f2(f, 0, 1, 1000))\n",
    "print(integrate_f3(f, 0, 1, 1000))"
   ]
  },
  {
   "cell_type": "code",
   "execution_count": 77,
   "id": "76dfbd91",
   "metadata": {},
   "outputs": [
    {
     "name": "stdout",
     "output_type": "stream",
     "text": [
      "326 µs ± 42.6 µs per loop (mean ± std. dev. of 7 runs, 1000 loops each)\n"
     ]
    }
   ],
   "source": [
    "%timeit integrate_f0(f, 0, 1, 1000)"
   ]
  },
  {
   "cell_type": "code",
   "execution_count": 78,
   "id": "e55a2e4b",
   "metadata": {},
   "outputs": [
    {
     "name": "stdout",
     "output_type": "stream",
     "text": [
      "275 µs ± 10.2 µs per loop (mean ± std. dev. of 7 runs, 1000 loops each)\n"
     ]
    }
   ],
   "source": [
    "%timeit integrate_f1(f, 0, 1, 1000)"
   ]
  },
  {
   "cell_type": "code",
   "execution_count": 79,
   "id": "94d75349",
   "metadata": {},
   "outputs": [
    {
     "name": "stdout",
     "output_type": "stream",
     "text": [
      "221 µs ± 5.4 µs per loop (mean ± std. dev. of 7 runs, 1000 loops each)\n"
     ]
    }
   ],
   "source": [
    "%timeit integrate_f2(f, 0, 1, 1000)"
   ]
  },
  {
   "cell_type": "code",
   "execution_count": 80,
   "id": "71def258",
   "metadata": {},
   "outputs": [
    {
     "name": "stdout",
     "output_type": "stream",
     "text": [
      "223 µs ± 18.5 µs per loop (mean ± std. dev. of 7 runs, 1000 loops each)\n"
     ]
    }
   ],
   "source": [
    "%timeit integrate_f3(f, 0, 1, 1000)"
   ]
  },
  {
   "cell_type": "code",
   "execution_count": null,
   "id": "d1cc165b",
   "metadata": {},
   "outputs": [],
   "source": []
  }
 ],
 "metadata": {
  "celltoolbar": "Slideshow",
  "kernelspec": {
   "display_name": "Python 3 (ipykernel)",
   "language": "python",
   "name": "python3"
  },
  "language_info": {
   "codemirror_mode": {
    "name": "ipython",
    "version": 3
   },
   "file_extension": ".py",
   "mimetype": "text/x-python",
   "name": "python",
   "nbconvert_exporter": "python",
   "pygments_lexer": "ipython3",
   "version": "3.8.12"
  }
 },
 "nbformat": 4,
 "nbformat_minor": 5
}
