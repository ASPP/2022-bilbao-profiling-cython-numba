{
 "cells": [
  {
   "cell_type": "markdown",
   "metadata": {},
   "source": [
    "# Exercise 1 — calculation of prime numbers using a brute-force approach"
   ]
  },
  {
   "cell_type": "code",
   "execution_count": 4,
   "metadata": {},
   "outputs": [],
   "source": [
    "# %load original.py\n",
    "def nth_prime(n):\n",
    "    n_found = 0\n",
    "    candidate = 2\n",
    "    while True:\n",
    "        good = True\n",
    "        for div in range(2, candidate):\n",
    "            if candidate % div == 0:\n",
    "                good = False\n",
    "                break\n",
    "        if good:\n",
    "            n_found += 1\n",
    "            if n_found == n:\n",
    "                return candidate\n",
    "        # try with the next number\n",
    "        candidate += 1\n"
   ]
  },
  {
   "cell_type": "code",
   "execution_count": 5,
   "metadata": {},
   "outputs": [],
   "source": [
    "assert nth_prime(1) == 2\n",
    "assert nth_prime(2) == 3\n",
    "assert nth_prime(3) == 5\n",
    "assert nth_prime(4) == 7"
   ]
  },
  {
   "cell_type": "markdown",
   "metadata": {},
   "source": [
    "### Step 1\n",
    "0. Measure the runtime of the pure Python implementation.\n",
    "1. Use Cython to speed up the calculation.\n",
    "2. Check times with %timeit.\n",
    "\n",
    "Hint: use `%%cython -a` to get hints about Python<->interaction."
   ]
  },
  {
   "cell_type": "code",
   "execution_count": 8,
   "metadata": {},
   "outputs": [
    {
     "name": "stdout",
     "output_type": "stream",
     "text": [
      "133 ms ± 1.09 ms per loop (mean ± std. dev. of 7 runs, 10 loops each)\n"
     ]
    }
   ],
   "source": [
    "%timeit nth_prime(1000)"
   ]
  },
  {
   "cell_type": "code",
   "execution_count": 9,
   "metadata": {},
   "outputs": [],
   "source": [
    "%load_ext cython"
   ]
  },
  {
   "cell_type": "code",
   "execution_count": 10,
   "metadata": {},
   "outputs": [],
   "source": [
    "%%cython\n",
    "\n",
    "def nth_prime_c(n):\n",
    "    n_found = 0\n",
    "    candidate = 2\n",
    "    while True:\n",
    "        good = True\n",
    "        for div in range(2, candidate):\n",
    "            if candidate % div == 0:\n",
    "                good = False\n",
    "                break\n",
    "        if good:\n",
    "            n_found += 1\n",
    "            if n_found == n:\n",
    "                return candidate\n",
    "        # try with the next number\n",
    "        candidate += 1\n"
   ]
  },
  {
   "cell_type": "code",
   "execution_count": 11,
   "metadata": {},
   "outputs": [
    {
     "name": "stdout",
     "output_type": "stream",
     "text": [
      "83.1 ms ± 2.64 ms per loop (mean ± std. dev. of 7 runs, 10 loops each)\n"
     ]
    }
   ],
   "source": [
    "%timeit nth_prime_c(1000)"
   ]
  },
  {
   "cell_type": "code",
   "execution_count": 12,
   "metadata": {},
   "outputs": [],
   "source": [
    "%%cython\n",
    "\n",
    "def nth_prime_c2(int n):\n",
    "    cdef:\n",
    "        int n_found = 0\n",
    "        int candidate = 2\n",
    "        int div \n",
    "        \n",
    "    while True:\n",
    "        good = True\n",
    "        for div in range(2, candidate):\n",
    "            if candidate % div == 0:\n",
    "                good = False\n",
    "                break\n",
    "        if good:\n",
    "            n_found += 1\n",
    "            if n_found == n:\n",
    "                return candidate\n",
    "        # try with the next number\n",
    "        candidate += 1\n"
   ]
  },
  {
   "cell_type": "code",
   "execution_count": 13,
   "metadata": {},
   "outputs": [
    {
     "name": "stdout",
     "output_type": "stream",
     "text": [
      "5.47 ms ± 7.11 µs per loop (mean ± std. dev. of 7 runs, 100 loops each)\n"
     ]
    }
   ],
   "source": [
    "%timeit nth_prime_c2(1000)"
   ]
  },
  {
   "cell_type": "code",
   "execution_count": 14,
   "metadata": {},
   "outputs": [
    {
     "data": {
      "text/plain": [
       "7919"
      ]
     },
     "execution_count": 14,
     "metadata": {},
     "output_type": "execute_result"
    }
   ],
   "source": [
    "nth_prime_c2(1000)"
   ]
  },
  {
   "cell_type": "code",
   "execution_count": 15,
   "metadata": {},
   "outputs": [
    {
     "data": {
      "text/plain": [
       "7919"
      ]
     },
     "execution_count": 15,
     "metadata": {},
     "output_type": "execute_result"
    }
   ],
   "source": [
    "nth_prime_c(1000)"
   ]
  },
  {
   "cell_type": "code",
   "execution_count": 16,
   "metadata": {},
   "outputs": [
    {
     "data": {
      "text/plain": [
       "7919"
      ]
     },
     "execution_count": 16,
     "metadata": {},
     "output_type": "execute_result"
    }
   ],
   "source": [
    "nth_prime(1000)"
   ]
  },
  {
   "cell_type": "code",
   "execution_count": null,
   "metadata": {},
   "outputs": [],
   "source": []
  }
 ],
 "metadata": {
  "kernelspec": {
   "display_name": "Python 3 (ipykernel)",
   "language": "python",
   "name": "python3"
  },
  "language_info": {
   "codemirror_mode": {
    "name": "ipython",
    "version": 3
   },
   "file_extension": ".py",
   "mimetype": "text/x-python",
   "name": "python",
   "nbconvert_exporter": "python",
   "pygments_lexer": "ipython3",
   "version": "3.10.6"
  }
 },
 "nbformat": 4,
 "nbformat_minor": 2
}
